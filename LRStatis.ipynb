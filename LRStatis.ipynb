{
 "cells": [
  {
   "cell_type": "markdown",
   "id": "990d7686",
   "metadata": {},
   "source": [
    "### Linear Regression using statistical method"
   ]
  },
  {
   "cell_type": "code",
   "execution_count": 6,
   "id": "65b126a2",
   "metadata": {},
   "outputs": [
    {
     "name": "stdout",
     "output_type": "stream",
     "text": [
      "Estimated coeff. \n",
      "b0 = 7.184802545342203\n",
      "b1 = 0.5578676018086272\n"
     ]
    },
    {
     "data": {
      "image/png": "[encoded data removed]",
      "text/plain": [
       "<Figure size 432x288 with 1 Axes>"
      ]
     },
     "metadata": {
      "needs_background": "light"
     },
     "output_type": "display_data"
    }
   ],
   "source": [
    "import numpy as np\n",
    "import matplotlib.pyplot as plt\n",
    "def main():\n",
    "    test_data_size = 50\n",
    "    train_x = []\n",
    "    train_y = []\n",
    "    \n",
    "    for n in range(test_data_size):\n",
    "        tx = n;\n",
    "        ty = n*0.5+5+1/np.random.rand()\n",
    "        train_x.append(tx)\n",
    "        train_y.append(ty)\n",
    "    x = np.array(train_x)\n",
    "    y = np.array(train_y)\n",
    "    b = est_coef(x,y)\n",
    "    print(\"Estimated coeff. \\nb0 = {}\\nb1 = {}\".format(b[0],b[1]))\n",
    "    plot_reg_line(x,y,b)\n",
    "    \n",
    "\n",
    "\n",
    "def est_coef(x,y):\n",
    "    n=np.size(x)\n",
    "    m_x,m_y= np.mean(x),np.mean(y)\n",
    "    SS_xy = np.sum(x*y)-n*m_x*m_y\n",
    "    SS_xx=np.sum(x*x)-n*m_x*m_x\n",
    "    b_1= SS_xy/SS_xx\n",
    "    b_0 = m_y-b_1*m_x\n",
    "    return(b_0,b_1)\n",
    "\n",
    "def plot_reg_line(x,y,b):\n",
    "    plt.scatter(x,y,color='m', marker = 'o',s=30)\n",
    "    y_pred = b[0]+b[1]*x\n",
    "    plt.plot(x,y_pred,color='g')\n",
    "    plt.xlabel('x')\n",
    "    plt.ylabel('y')\n",
    "    plt.show()\n",
    "\n",
    "\n",
    "if __name__==\"__main__\":\n",
    "    main()\n",
    "    \n",
    "        "
   ]
  }
 ],
 "metadata": {
  "kernelspec": {
   "display_name": "Python 3 (ipykernel)",
   "language": "python",
   "name": "python3"
  },
  "language_info": {
   "codemirror_mode": {
    "name": "ipython",
    "version": 3
   },
   "file_extension": ".py",
   "mimetype": "text/x-python",
   "name": "python",
   "nbconvert_exporter": "python",
   "pygments_lexer": "ipython3",
   "version": "3.9.6"
  }
 },
 "nbformat": 4,
 "nbformat_minor": 5
}
