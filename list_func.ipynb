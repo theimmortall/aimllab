{
 "cells": [
  {
   "cell_type": "markdown",
   "id": "1ac0afcb",
   "metadata": {},
   "source": [
    "### List Functions"
   ]
  },
  {
   "cell_type": "code",
   "execution_count": 1,
   "id": "3c5f8331",
   "metadata": {},
   "outputs": [],
   "source": [
    "subjects = ['Hindi', 'English', 'Math', 'Science']"
   ]
  },
  {
   "cell_type": "code",
   "execution_count": 2,
   "id": "42737f0a",
   "metadata": {},
   "outputs": [
    {
     "data": {
      "text/plain": [
       "166110461440"
      ]
     },
     "execution_count": 2,
     "metadata": {},
     "output_type": "execute_result"
    }
   ],
   "source": [
    "id(subjects)"
   ]
  },
  {
   "cell_type": "code",
   "execution_count": 3,
   "id": "6aa1af77",
   "metadata": {},
   "outputs": [
    {
     "data": {
      "text/plain": [
       "'Science'"
      ]
     },
     "execution_count": 3,
     "metadata": {},
     "output_type": "execute_result"
    }
   ],
   "source": [
    "subjects[3] "
   ]
  },
  {
   "cell_type": "code",
   "execution_count": 4,
   "id": "bca45753",
   "metadata": {},
   "outputs": [
    {
     "data": {
      "text/plain": [
       "'Math'"
      ]
     },
     "execution_count": 4,
     "metadata": {},
     "output_type": "execute_result"
    }
   ],
   "source": [
    "subjects[-2]"
   ]
  },
  {
   "cell_type": "code",
   "execution_count": 5,
   "id": "eac0b3e1",
   "metadata": {},
   "outputs": [],
   "source": [
    "subjects[0]='Sanskrit'"
   ]
  },
  {
   "cell_type": "code",
   "execution_count": 6,
   "id": "ea77f127",
   "metadata": {},
   "outputs": [
    {
     "data": {
      "text/plain": [
       "['Sanskrit', 'English', 'Math', 'Science']"
      ]
     },
     "execution_count": 6,
     "metadata": {},
     "output_type": "execute_result"
    }
   ],
   "source": [
    "subjects"
   ]
  },
  {
   "cell_type": "code",
   "execution_count": 7,
   "id": "07663c4d",
   "metadata": {},
   "outputs": [
    {
     "data": {
      "text/plain": [
       "102"
      ]
     },
     "execution_count": 7,
     "metadata": {},
     "output_type": "execute_result"
    }
   ],
   "source": [
    "subjectcodes = [['Hindi', 101], ['English', 102], ['Math', 103], ['Science', 104]]\n",
    "subjectcodes[1][1]"
   ]
  },
  {
   "cell_type": "code",
   "execution_count": 8,
   "id": "9a11d2c5",
   "metadata": {},
   "outputs": [
    {
     "name": "stdout",
     "output_type": "stream",
     "text": [
      "Enter student details: 11\n"
     ]
    },
    {
     "data": {
      "text/plain": [
       "11"
      ]
     },
     "execution_count": 8,
     "metadata": {},
     "output_type": "execute_result"
    }
   ],
   "source": [
    "details = eval(input(\"Enter student details: \"))\n",
    "details"
   ]
  },
  {
   "cell_type": "code",
   "execution_count": 9,
   "id": "c4ce32ce",
   "metadata": {},
   "outputs": [
    {
     "data": {
      "text/plain": [
       "['a', 'e', 'i', 'o', 'u']"
      ]
     },
     "execution_count": 9,
     "metadata": {},
     "output_type": "execute_result"
    }
   ],
   "source": [
    "vowels = 'aeiou'\n",
    "vowels = list(vowels)\n",
    "vowels"
   ]
  },
  {
   "cell_type": "code",
   "execution_count": 10,
   "id": "e38120a4",
   "metadata": {},
   "outputs": [],
   "source": [
    "modify_sub = subjects + ['sanskrit']"
   ]
  },
  {
   "cell_type": "code",
   "execution_count": 11,
   "id": "4cba5d24",
   "metadata": {},
   "outputs": [
    {
     "data": {
      "text/plain": [
       "['Sanskrit', 'English', 'Math', 'Science', 'sanskrit']"
      ]
     },
     "execution_count": 11,
     "metadata": {},
     "output_type": "execute_result"
    }
   ],
   "source": [
    "modify_sub"
   ]
  },
  {
   "cell_type": "code",
   "execution_count": 12,
   "id": "a1351494",
   "metadata": {},
   "outputs": [
    {
     "data": {
      "text/plain": [
       "['Sanskrit', 'Math']"
      ]
     },
     "execution_count": 12,
     "metadata": {},
     "output_type": "execute_result"
    }
   ],
   "source": [
    "modify_sub[0:4:2]"
   ]
  },
  {
   "cell_type": "code",
   "execution_count": 13,
   "id": "69d8b972",
   "metadata": {},
   "outputs": [
    {
     "data": {
      "text/plain": [
       "['Sanskrit', 'English', 'Math', 'Science', 'sanskrit', 'Computer Science']"
      ]
     },
     "execution_count": 13,
     "metadata": {},
     "output_type": "execute_result"
    }
   ],
   "source": [
    "modify_sub.append('Computer Science')\n",
    "modify_sub"
   ]
  },
  {
   "cell_type": "code",
   "execution_count": 14,
   "id": "500d83e6",
   "metadata": {},
   "outputs": [
    {
     "data": {
      "text/plain": [
       "1"
      ]
     },
     "execution_count": 14,
     "metadata": {},
     "output_type": "execute_result"
    }
   ],
   "source": [
    "modify_sub.count('English')"
   ]
  },
  {
   "cell_type": "code",
   "execution_count": 15,
   "id": "c9b3a9c5",
   "metadata": {},
   "outputs": [
    {
     "data": {
      "text/plain": [
       "['Sanskrit', 'Math', 'Science', 'sanskrit', 'Computer Science']"
      ]
     },
     "execution_count": 15,
     "metadata": {},
     "output_type": "execute_result"
    }
   ],
   "source": [
    "modify_sub.remove('English')\n",
    "modify_sub"
   ]
  },
  {
   "cell_type": "code",
   "execution_count": 16,
   "id": "c23c5b59",
   "metadata": {},
   "outputs": [
    {
     "data": {
      "text/plain": [
       "['Sanskrit', 'English', 'Math', 'Science', 'alfa1', 'alfa2', 'alfa3']"
      ]
     },
     "execution_count": 16,
     "metadata": {},
     "output_type": "execute_result"
    }
   ],
   "source": [
    "subjects.extend(['alfa1', 'alfa2', 'alfa3'])\n",
    "subjects"
   ]
  },
  {
   "cell_type": "code",
   "execution_count": 17,
   "id": "91eed7b2",
   "metadata": {},
   "outputs": [
    {
     "data": {
      "text/plain": [
       "27"
      ]
     },
     "execution_count": 17,
     "metadata": {},
     "output_type": "execute_result"
    }
   ],
   "source": [
    "cube = lambda x: x**3\n",
    "cube(3)"
   ]
  },
  {
   "cell_type": "code",
   "execution_count": 18,
   "id": "b9ae7190",
   "metadata": {},
   "outputs": [
    {
     "data": {
      "text/plain": [
       "[1, 8, 27, 64, 125]"
      ]
     },
     "execution_count": 18,
     "metadata": {},
     "output_type": "execute_result"
    }
   ],
   "source": [
    "num = [1,2,3,4,5]\n",
    "cube_num = list(map(cube, num))\n",
    "cube_num\n"
   ]
  },
  {
   "cell_type": "code",
   "execution_count": 19,
   "id": "6cba260a",
   "metadata": {},
   "outputs": [
    {
     "data": {
      "text/plain": [
       "4"
      ]
     },
     "execution_count": 19,
     "metadata": {},
     "output_type": "execute_result"
    }
   ],
   "source": [
    "subjects.index('alfa1')"
   ]
  },
  {
   "cell_type": "code",
   "execution_count": 20,
   "id": "10d376e4",
   "metadata": {},
   "outputs": [
    {
     "data": {
      "text/plain": [
       "['Sanskrit',\n",
       " 'English',\n",
       " 'Math',\n",
       " 'Science',\n",
       " 'alfa1',\n",
       " 'alfa2',\n",
       " 'alfa3',\n",
       " ['raj', 'radha']]"
      ]
     },
     "execution_count": 20,
     "metadata": {},
     "output_type": "execute_result"
    }
   ],
   "source": [
    "subjects.append(['raj','radha'])\n",
    "subjects"
   ]
  },
  {
   "cell_type": "code",
   "execution_count": 21,
   "id": "720c2155",
   "metadata": {},
   "outputs": [
    {
     "data": {
      "text/plain": [
       "['Sanskrit',\n",
       " 'English',\n",
       " 'Math',\n",
       " 'Science',\n",
       " 'alfa1',\n",
       " 'alfa2',\n",
       " 'alfa3',\n",
       " ['raj', 'radha']]"
      ]
     },
     "execution_count": 21,
     "metadata": {},
     "output_type": "execute_result"
    }
   ],
   "source": [
    "import copy\n",
    "sub_copy = copy.copy(subjects)\n",
    "sub_copy"
   ]
  },
  {
   "cell_type": "code",
   "execution_count": 22,
   "id": "37efec05",
   "metadata": {},
   "outputs": [],
   "source": [
    "sub_copy[7][1]='shyam'"
   ]
  },
  {
   "cell_type": "code",
   "execution_count": 23,
   "id": "298c63a8",
   "metadata": {},
   "outputs": [
    {
     "data": {
      "text/plain": [
       "['Sanskrit',\n",
       " 'English',\n",
       " 'Math',\n",
       " 'Science',\n",
       " 'alfa1',\n",
       " 'alfa2',\n",
       " 'alfa3',\n",
       " ['raj', 'shyam']]"
      ]
     },
     "execution_count": 23,
     "metadata": {},
     "output_type": "execute_result"
    }
   ],
   "source": [
    "sub_copy"
   ]
  },
  {
   "cell_type": "code",
   "execution_count": 24,
   "id": "13377b8b",
   "metadata": {},
   "outputs": [
    {
     "data": {
      "text/plain": [
       "['Sanskrit',\n",
       " 'English',\n",
       " 'Math',\n",
       " 'Science',\n",
       " 'alfa1',\n",
       " 'alfa2',\n",
       " 'alfa3',\n",
       " ['raj', 'shyam']]"
      ]
     },
     "execution_count": 24,
     "metadata": {},
     "output_type": "execute_result"
    }
   ],
   "source": [
    "subjects"
   ]
  },
  {
   "cell_type": "code",
   "execution_count": 25,
   "id": "e8808521",
   "metadata": {},
   "outputs": [
    {
     "data": {
      "text/plain": [
       "['Sanskrit',\n",
       " 'English',\n",
       " 'Math',\n",
       " 'Science',\n",
       " 'alfa1',\n",
       " 'alfa2',\n",
       " 'alfa3',\n",
       " ['raj', 'rajendra']]"
      ]
     },
     "execution_count": 25,
     "metadata": {},
     "output_type": "execute_result"
    }
   ],
   "source": [
    "deep_copy = copy.deepcopy(subjects)\n",
    "deep_copy[7][1]='rajendra'\n",
    "deep_copy"
   ]
  },
  {
   "cell_type": "code",
   "execution_count": 26,
   "id": "b2b376b3",
   "metadata": {},
   "outputs": [
    {
     "data": {
      "text/plain": [
       "['Sanskrit',\n",
       " 'English',\n",
       " 'Math',\n",
       " 'Science',\n",
       " 'alfa1',\n",
       " 'alfa2',\n",
       " 'alfa3',\n",
       " ['raj', 'shyam']]"
      ]
     },
     "execution_count": 26,
     "metadata": {},
     "output_type": "execute_result"
    }
   ],
   "source": [
    "subjects"
   ]
  },
  {
   "cell_type": "code",
   "execution_count": 27,
   "id": "e1ee2cca",
   "metadata": {},
   "outputs": [
    {
     "name": "stdout",
     "output_type": "stream",
     "text": [
      "[['raj', 'shyam'], 'alfa3', 'alfa2', 'alfa1', 'Science', 'Math', 'English', 'Sanskrit']\n"
     ]
    }
   ],
   "source": [
    "subjects.reverse()\n",
    "print(subjects)\n"
   ]
  },
  {
   "cell_type": "markdown",
   "id": "d04d4977",
   "metadata": {},
   "source": [
    "### Program related to student records"
   ]
  },
  {
   "cell_type": "code",
   "execution_count": 28,
   "id": "d09acac2",
   "metadata": {},
   "outputs": [
    {
     "data": {
      "text/plain": [
       "[[101, 'Raj', ['Hindi', 'English', 'Math']],\n",
       " [102, 'Divyam', ['Computer', 'spanish']],\n",
       " [103, 'Anam', ['Urdu', 'Arabic']],\n",
       " [104, 'Ananya', ['Bihari', 'Maths', 'Sociology']],\n",
       " [105, 'Dhriti', ['Physics', 'AI', 'Chemistry']]]"
      ]
     },
     "execution_count": 28,
     "metadata": {},
     "output_type": "execute_result"
    }
   ],
   "source": [
    "student_record = [[101, 'Raj', ['Hindi', 'English', 'Math']],\n",
    "                  [102, 'Divyam', ['Computer', 'spanish']],\n",
    "                  [103, 'Anam', ['Urdu', 'Arabic']],\n",
    "                  [104, 'Ananya', ['Bihari', 'Maths', 'Sociology']],\n",
    "                  [105, 'Dhriti', ['Physics', 'AI', 'Chemistry']]]\n",
    "student_record"
   ]
  },
  {
   "cell_type": "code",
   "execution_count": 29,
   "id": "b07270d4",
   "metadata": {},
   "outputs": [],
   "source": [
    "def search_rollno(student_record, rollno):\n",
    "    for i in range(len(student_record)):\n",
    "        if student_record[i][0]==rollno:\n",
    "            print(student_record[i])"
   ]
  },
  {
   "cell_type": "code",
   "execution_count": 30,
   "id": "6fced16d",
   "metadata": {},
   "outputs": [
    {
     "name": "stdout",
     "output_type": "stream",
     "text": [
      "[102, 'Divyam', ['Computer', 'spanish']]\n"
     ]
    }
   ],
   "source": [
    "search_rollno(student_record, 102)"
   ]
  },
  {
   "cell_type": "code",
   "execution_count": 31,
   "id": "3c5c2ff3",
   "metadata": {},
   "outputs": [],
   "source": [
    "def search_name(student_record, name):\n",
    "    for i in range(len(student_record)):\n",
    "        if student_record[i][1]==name:\n",
    "            print(student_record[i])"
   ]
  },
  {
   "cell_type": "code",
   "execution_count": 32,
   "id": "a5d33fef",
   "metadata": {},
   "outputs": [
    {
     "name": "stdout",
     "output_type": "stream",
     "text": [
      "[101, 'Raj', ['Hindi', 'English', 'Math']]\n"
     ]
    }
   ],
   "source": [
    "search_name(student_record, 'Raj')"
   ]
  },
  {
   "cell_type": "code",
   "execution_count": 35,
   "id": "29024985",
   "metadata": {},
   "outputs": [],
   "source": [
    "def delete_rollno(student_record, rollno):\n",
    "    for i in range(len(student_record)):\n",
    "        if student_record[i][0]==rollno:\n",
    "            student_record.remove(student_record[i])"
   ]
  },
  {
   "cell_type": "code",
   "execution_count": 36,
   "id": "fa1dfce6",
   "metadata": {},
   "outputs": [
    {
     "data": {
      "text/plain": [
       "[[101, 'Raj', ['Hindi', 'English', 'Math']],\n",
       " [102, 'Divyam', ['Computer', 'spanish']],\n",
       " [103, 'Anam', ['Urdu', 'Arabic']],\n",
       " [104, 'Ananya', ['Bihari', 'Maths', 'Sociology']]]"
      ]
     },
     "execution_count": 36,
     "metadata": {},
     "output_type": "execute_result"
    }
   ],
   "source": [
    "delete_rollno(student_record, 105)\n",
    "student_record"
   ]
  },
  {
   "cell_type": "code",
   "execution_count": null,
   "id": "844681f6",
   "metadata": {},
   "outputs": [],
   "source": [
    "def insert_record(student_record, list):\n",
    "    student_record.append(list)"
   ]
  },
  {
   "cell_type": "code",
   "execution_count": null,
   "id": "21d6d1b7",
   "metadata": {},
   "outputs": [],
   "source": [
    "insert_record(student_record, [106, 'Nilesh', ['Data Structure', 'Python']])"
   ]
  },
  {
   "cell_type": "code",
   "execution_count": null,
   "id": "bbc8d9c8",
   "metadata": {},
   "outputs": [],
   "source": [
    "student_record"
   ]
  },
  {
   "cell_type": "code",
   "execution_count": null,
   "id": "4337dc1b",
   "metadata": {},
   "outputs": [],
   "source": [
    "def update_subject(student_record, rollno, subjecttoupdate, updatedsubject):\n",
    "    for i in range(len(student_record)):\n",
    "        if student_record[i][0]==rollno:\n",
    "            al = student_record[i][2].index(subjecttoupdate)\n",
    "            student_record[i][2][al] = updatedsubject"
   ]
  },
  {
   "cell_type": "code",
   "execution_count": null,
   "id": "e59643b8",
   "metadata": {},
   "outputs": [],
   "source": [
    "update_subject(student_record, 104, 'Maths', 'Hindi')"
   ]
  },
  {
   "cell_type": "code",
   "execution_count": null,
   "id": "7647a061",
   "metadata": {},
   "outputs": [],
   "source": [
    "student_record"
   ]
  },
  {
   "cell_type": "code",
   "execution_count": 53,
   "id": "4195214c",
   "metadata": {},
   "outputs": [],
   "source": [
    "def fetch_nameroll(student_record):\n",
    "    for i in range(len(student_record)):\n",
    "        print(student_record[i][0]  ,student_record[i][1])"
   ]
  },
  {
   "cell_type": "code",
   "execution_count": 54,
   "id": "a46b4284",
   "metadata": {},
   "outputs": [
    {
     "name": "stdout",
     "output_type": "stream",
     "text": [
      "101 Raj\n",
      "102 Divyam\n",
      "103 Anam\n",
      "104 Ananya\n"
     ]
    }
   ],
   "source": [
    "fetch_nameroll(student_record)"
   ]
  }
 ],
 "metadata": {
  "kernelspec": {
   "display_name": "Python 3 (ipykernel)",
   "language": "python",
   "name": "python3"
  },
  "language_info": {
   "codemirror_mode": {
    "name": "ipython",
    "version": 3
   },
   "file_extension": ".py",
   "mimetype": "text/x-python",
   "name": "python",
   "nbconvert_exporter": "python",
   "pygments_lexer": "ipython3",
   "version": "3.9.6"
  }
 },
 "nbformat": 4,
 "nbformat_minor": 5
}
