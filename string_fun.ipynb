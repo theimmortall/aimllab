{
 "cells": [
  {
   "cell_type": "markdown",
   "id": "ccf8948c",
   "metadata": {},
   "source": [
    "### String Functions"
   ]
  },
  {
   "cell_type": "code",
   "execution_count": 1,
   "id": "d5379579",
   "metadata": {},
   "outputs": [
    {
     "data": {
      "text/plain": [
       "'Hello World'"
      ]
     },
     "execution_count": 1,
     "metadata": {},
     "output_type": "execute_result"
    }
   ],
   "source": [
    "message = \"Hello World\"\n",
    "message"
   ]
  },
  {
   "cell_type": "code",
   "execution_count": 2,
   "id": "41110ae8",
   "metadata": {},
   "outputs": [
    {
     "data": {
      "text/plain": [
       "'o'"
      ]
     },
     "execution_count": 2,
     "metadata": {},
     "output_type": "execute_result"
    }
   ],
   "source": [
    "message[4]"
   ]
  },
  {
   "cell_type": "code",
   "execution_count": 3,
   "id": "731f67e5",
   "metadata": {},
   "outputs": [
    {
     "data": {
      "text/plain": [
       "'r'"
      ]
     },
     "execution_count": 3,
     "metadata": {},
     "output_type": "execute_result"
    }
   ],
   "source": [
    "message[-3]"
   ]
  },
  {
   "cell_type": "code",
   "execution_count": 4,
   "id": "5356021c",
   "metadata": {},
   "outputs": [
    {
     "data": {
      "text/plain": [
       "462978075376"
      ]
     },
     "execution_count": 4,
     "metadata": {},
     "output_type": "execute_result"
    }
   ],
   "source": [
    "id(message)"
   ]
  },
  {
   "cell_type": "code",
   "execution_count": 5,
   "id": "334e83fa",
   "metadata": {},
   "outputs": [
    {
     "data": {
      "text/plain": [
       "'Hello World'"
      ]
     },
     "execution_count": 5,
     "metadata": {},
     "output_type": "execute_result"
    }
   ],
   "source": [
    "temp = message\n",
    "temp"
   ]
  },
  {
   "cell_type": "code",
   "execution_count": null,
   "id": "14e629f9",
   "metadata": {},
   "outputs": [],
   "source": [
    "message[3:7]"
   ]
  },
  {
   "cell_type": "code",
   "execution_count": null,
   "id": "0c9abf99",
   "metadata": {},
   "outputs": [],
   "source": [
    "message[:7]"
   ]
  },
  {
   "cell_type": "code",
   "execution_count": 7,
   "id": "62b44570",
   "metadata": {},
   "outputs": [
    {
     "data": {
      "text/plain": [
       "'orld'"
      ]
     },
     "execution_count": 7,
     "metadata": {},
     "output_type": "execute_result"
    }
   ],
   "source": [
    "message[7:]"
   ]
  },
  {
   "cell_type": "code",
   "execution_count": 8,
   "id": "ee09f20f",
   "metadata": {},
   "outputs": [
    {
     "data": {
      "text/plain": [
       "'Wor'"
      ]
     },
     "execution_count": 8,
     "metadata": {},
     "output_type": "execute_result"
    }
   ],
   "source": [
    "message[-5:-2]"
   ]
  },
  {
   "cell_type": "code",
   "execution_count": 9,
   "id": "bd5f34fe",
   "metadata": {},
   "outputs": [
    {
     "data": {
      "text/plain": [
       "'bd'"
      ]
     },
     "execution_count": 9,
     "metadata": {},
     "output_type": "execute_result"
    }
   ],
   "source": [
    "max('AZ','bd','AM')"
   ]
  },
  {
   "cell_type": "code",
   "execution_count": 10,
   "id": "50ce1237",
   "metadata": {},
   "outputs": [
    {
     "data": {
      "text/plain": [
       "'AM'"
      ]
     },
     "execution_count": 10,
     "metadata": {},
     "output_type": "execute_result"
    }
   ],
   "source": [
    "min('AZ','bd','AM')"
   ]
  },
  {
   "cell_type": "code",
   "execution_count": 11,
   "id": "4c77f614",
   "metadata": {},
   "outputs": [
    {
     "data": {
      "text/plain": [
       "False"
      ]
     },
     "execution_count": 11,
     "metadata": {},
     "output_type": "execute_result"
    }
   ],
   "source": [
    "'h' in message"
   ]
  },
  {
   "cell_type": "code",
   "execution_count": 12,
   "id": "18fd21d2",
   "metadata": {},
   "outputs": [
    {
     "data": {
      "text/plain": [
       "True"
      ]
     },
     "execution_count": 12,
     "metadata": {},
     "output_type": "execute_result"
    }
   ],
   "source": [
    "'H' in message"
   ]
  },
  {
   "cell_type": "code",
   "execution_count": 13,
   "id": "c7d02b2e",
   "metadata": {},
   "outputs": [
    {
     "data": {
      "text/plain": [
       "1"
      ]
     },
     "execution_count": 13,
     "metadata": {},
     "output_type": "execute_result"
    }
   ],
   "source": [
    "message.count('H')"
   ]
  },
  {
   "cell_type": "code",
   "execution_count": 14,
   "id": "35879ee1",
   "metadata": {},
   "outputs": [
    {
     "data": {
      "text/plain": [
       "4"
      ]
     },
     "execution_count": 14,
     "metadata": {},
     "output_type": "execute_result"
    }
   ],
   "source": [
    "Color = 'red,green,yellow'\n",
    "Color.find('green')"
   ]
  },
  {
   "cell_type": "code",
   "execution_count": 15,
   "id": "9e2221a8",
   "metadata": {},
   "outputs": [
    {
     "data": {
      "text/plain": [
       "4"
      ]
     },
     "execution_count": 15,
     "metadata": {},
     "output_type": "execute_result"
    }
   ],
   "source": [
    "Color.rfind('green')"
   ]
  },
  {
   "cell_type": "code",
   "execution_count": 16,
   "id": "4b0b8798",
   "metadata": {},
   "outputs": [],
   "source": [
    "messs = 'amigos'"
   ]
  },
  {
   "cell_type": "code",
   "execution_count": 17,
   "id": "a4154651",
   "metadata": {},
   "outputs": [
    {
     "data": {
      "text/plain": [
       "'Amigos'"
      ]
     },
     "execution_count": 17,
     "metadata": {},
     "output_type": "execute_result"
    }
   ],
   "source": [
    "messs.capitalize()"
   ]
  },
  {
   "cell_type": "code",
   "execution_count": 18,
   "id": "33851991",
   "metadata": {},
   "outputs": [
    {
     "data": {
      "text/plain": [
       "'hello world'"
      ]
     },
     "execution_count": 18,
     "metadata": {},
     "output_type": "execute_result"
    }
   ],
   "source": [
    "message.lower()"
   ]
  },
  {
   "cell_type": "code",
   "execution_count": 19,
   "id": "a13709cc",
   "metadata": {},
   "outputs": [
    {
     "data": {
      "text/plain": [
       "'HELLO WORLD'"
      ]
     },
     "execution_count": 19,
     "metadata": {},
     "output_type": "execute_result"
    }
   ],
   "source": [
    "message.upper()"
   ]
  },
  {
   "cell_type": "code",
   "execution_count": 20,
   "id": "79b14c5f",
   "metadata": {},
   "outputs": [
    {
     "data": {
      "text/plain": [
       "'hELLO wORLD'"
      ]
     },
     "execution_count": 20,
     "metadata": {},
     "output_type": "execute_result"
    }
   ],
   "source": [
    "message.swapcase()"
   ]
  },
  {
   "cell_type": "code",
   "execution_count": 21,
   "id": "7e9aa527",
   "metadata": {},
   "outputs": [
    {
     "data": {
      "text/plain": [
       "'Hello World'"
      ]
     },
     "execution_count": 21,
     "metadata": {},
     "output_type": "execute_result"
    }
   ],
   "source": [
    "message.title()"
   ]
  },
  {
   "cell_type": "code",
   "execution_count": 22,
   "id": "3464770b",
   "metadata": {},
   "outputs": [
    {
     "data": {
      "text/plain": [
       "'Mello World'"
      ]
     },
     "execution_count": 22,
     "metadata": {},
     "output_type": "execute_result"
    }
   ],
   "source": [
    "message.replace('He','Me')"
   ]
  },
  {
   "cell_type": "code",
   "execution_count": 23,
   "id": "8351d2ea",
   "metadata": {},
   "outputs": [
    {
     "data": {
      "text/plain": [
       "True"
      ]
     },
     "execution_count": 23,
     "metadata": {},
     "output_type": "execute_result"
    }
   ],
   "source": [
    "message.startswith('Hello')"
   ]
  },
  {
   "cell_type": "code",
   "execution_count": 24,
   "id": "7dbed51c",
   "metadata": {},
   "outputs": [],
   "source": [
    "str = '   hello   '"
   ]
  },
  {
   "cell_type": "code",
   "execution_count": 25,
   "id": "73db5477",
   "metadata": {},
   "outputs": [
    {
     "data": {
      "text/plain": [
       "'hello'"
      ]
     },
     "execution_count": 25,
     "metadata": {},
     "output_type": "execute_result"
    }
   ],
   "source": [
    "str.strip()"
   ]
  },
  {
   "cell_type": "code",
   "execution_count": 26,
   "id": "dff182b5",
   "metadata": {},
   "outputs": [
    {
     "data": {
      "text/plain": [
       "'   hello'"
      ]
     },
     "execution_count": 26,
     "metadata": {},
     "output_type": "execute_result"
    }
   ],
   "source": [
    "str.rstrip()"
   ]
  },
  {
   "cell_type": "code",
   "execution_count": 27,
   "id": "be9c302b",
   "metadata": {},
   "outputs": [
    {
     "data": {
      "text/plain": [
       "'hello   '"
      ]
     },
     "execution_count": 27,
     "metadata": {},
     "output_type": "execute_result"
    }
   ],
   "source": [
    "str.lstrip()"
   ]
  },
  {
   "cell_type": "code",
   "execution_count": 28,
   "id": "b249d730",
   "metadata": {},
   "outputs": [
    {
     "data": {
      "text/plain": [
       "['red', 'green', 'yellow']"
      ]
     },
     "execution_count": 28,
     "metadata": {},
     "output_type": "execute_result"
    }
   ],
   "source": [
    "Color.split(',')"
   ]
  },
  {
   "cell_type": "code",
   "execution_count": 29,
   "id": "709facfb",
   "metadata": {},
   "outputs": [],
   "source": [
    "mess = 'hello, world'"
   ]
  },
  {
   "cell_type": "code",
   "execution_count": 30,
   "id": "120ef019",
   "metadata": {},
   "outputs": [
    {
     "data": {
      "text/plain": [
       "('hello', ',', ' world')"
      ]
     },
     "execution_count": 30,
     "metadata": {},
     "output_type": "execute_result"
    }
   ],
   "source": [
    "mess.partition(',')"
   ]
  },
  {
   "cell_type": "code",
   "execution_count": 31,
   "id": "675386b2",
   "metadata": {},
   "outputs": [
    {
     "data": {
      "text/plain": [
       "False"
      ]
     },
     "execution_count": 31,
     "metadata": {},
     "output_type": "execute_result"
    }
   ],
   "source": [
    "message.isspace()"
   ]
  },
  {
   "cell_type": "code",
   "execution_count": 32,
   "id": "74eb6f96",
   "metadata": {},
   "outputs": [
    {
     "data": {
      "text/plain": [
       "False"
      ]
     },
     "execution_count": 32,
     "metadata": {},
     "output_type": "execute_result"
    }
   ],
   "source": [
    "message.isdigit()"
   ]
  },
  {
   "cell_type": "code",
   "execution_count": 33,
   "id": "18420736",
   "metadata": {},
   "outputs": [
    {
     "data": {
      "text/plain": [
       "False"
      ]
     },
     "execution_count": 33,
     "metadata": {},
     "output_type": "execute_result"
    }
   ],
   "source": [
    "message.isalpha()"
   ]
  },
  {
   "cell_type": "code",
   "execution_count": 34,
   "id": "905f44a3",
   "metadata": {},
   "outputs": [
    {
     "data": {
      "text/plain": [
       "True"
      ]
     },
     "execution_count": 34,
     "metadata": {},
     "output_type": "execute_result"
    }
   ],
   "source": [
    "str1 = '374'\n",
    "str1.isdigit()"
   ]
  },
  {
   "cell_type": "code",
   "execution_count": 35,
   "id": "6a009843",
   "metadata": {},
   "outputs": [
    {
     "data": {
      "text/plain": [
       "True"
      ]
     },
     "execution_count": 35,
     "metadata": {},
     "output_type": "execute_result"
    }
   ],
   "source": [
    "str2 ='deu298'\n",
    "str2.isalnum()"
   ]
  },
  {
   "cell_type": "code",
   "execution_count": 36,
   "id": "84c51250",
   "metadata": {},
   "outputs": [
    {
     "data": {
      "text/plain": [
       "b'Hello World'"
      ]
     },
     "execution_count": 36,
     "metadata": {},
     "output_type": "execute_result"
    }
   ],
   "source": [
    "enc = message.encode('utf-8')\n",
    "enc"
   ]
  },
  {
   "cell_type": "code",
   "execution_count": 37,
   "id": "82b9e6b7",
   "metadata": {},
   "outputs": [
    {
     "data": {
      "text/plain": [
       "'Hello World'"
      ]
     },
     "execution_count": 37,
     "metadata": {},
     "output_type": "execute_result"
    }
   ],
   "source": [
    "enc.decode()"
   ]
  },
  {
   "cell_type": "code",
   "execution_count": 38,
   "id": "20d4f377",
   "metadata": {},
   "outputs": [
    {
     "data": {
      "text/plain": [
       "'H-e-l-l-o- -W-o-r-l-d'"
      ]
     },
     "execution_count": 38,
     "metadata": {},
     "output_type": "execute_result"
    }
   ],
   "source": [
    "'-'.join(message)"
   ]
  },
  {
   "cell_type": "markdown",
   "id": "1fcba2be",
   "metadata": {},
   "source": [
    "### Program to return to no. of matching characters"
   ]
  },
  {
   "cell_type": "code",
   "execution_count": 51,
   "id": "9a91b892",
   "metadata": {},
   "outputs": [
    {
     "name": "stdout",
     "output_type": "stream",
     "text": [
      "Enter the first string: abcdef\n",
      "Enter the second string: dddefghiA\n"
     ]
    },
    {
     "data": {
      "text/plain": [
       "['A', 'D', 'E', 'F']"
      ]
     },
     "execution_count": 51,
     "metadata": {},
     "output_type": "execute_result"
    }
   ],
   "source": [
    "strr1 = input(\"Enter the first string: \")\n",
    "strr2 = input(\"Enter the second string: \")\n",
    "strr1 = strr1.upper()\n",
    "strr2 = strr2.upper()\n",
    "list1 = []\n",
    "for i in range(len(strr1)):\n",
    "    if strr1[i] in strr2:\n",
    "        if strr1[i] not in list1:\n",
    "                list1.append(strr1[i])\n",
    "list1"
   ]
  },
  {
   "cell_type": "code",
   "execution_count": null,
   "id": "ced60a51",
   "metadata": {},
   "outputs": [],
   "source": []
  },
  {
   "cell_type": "code",
   "execution_count": null,
   "id": "9f8793db",
   "metadata": {},
   "outputs": [],
   "source": []
  }
 ],
 "metadata": {
  "kernelspec": {
   "display_name": "Python 3 (ipykernel)",
   "language": "python",
   "name": "python3"
  },
  "language_info": {
   "codemirror_mode": {
    "name": "ipython",
    "version": 3
   },
   "file_extension": ".py",
   "mimetype": "text/x-python",
   "name": "python",
   "nbconvert_exporter": "python",
   "pygments_lexer": "ipython3",
   "version": "3.9.6"
  }
 },
 "nbformat": 4,
 "nbformat_minor": 5
}
