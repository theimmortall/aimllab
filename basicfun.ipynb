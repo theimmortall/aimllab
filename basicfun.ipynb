{
 "cells": [
  {
   "cell_type": "markdown",
   "id": "807485dc",
   "metadata": {},
   "source": [
    "### Basic Functions of Python"
   ]
  },
  {
   "cell_type": "code",
   "execution_count": 1,
   "id": "9b78170f",
   "metadata": {},
   "outputs": [
    {
     "data": {
      "text/plain": [
       "'hello world'"
      ]
     },
     "execution_count": 1,
     "metadata": {},
     "output_type": "execute_result"
    }
   ],
   "source": [
    "'hello world'"
   ]
  },
  {
   "cell_type": "code",
   "execution_count": 2,
   "id": "d78e07b4",
   "metadata": {},
   "outputs": [
    {
     "name": "stdout",
     "output_type": "stream",
     "text": [
      "hello world\n"
     ]
    }
   ],
   "source": [
    "print(\"hello world\")"
   ]
  },
  {
   "cell_type": "code",
   "execution_count": 3,
   "id": "e89fd357",
   "metadata": {},
   "outputs": [
    {
     "name": "stdout",
     "output_type": "stream",
     "text": [
      "hello world "
     ]
    }
   ],
   "source": [
    "print(\"hello world\",end=\" \")"
   ]
  },
  {
   "cell_type": "code",
   "execution_count": 4,
   "id": "e433670a",
   "metadata": {},
   "outputs": [],
   "source": [
    "val = 50"
   ]
  },
  {
   "cell_type": "code",
   "execution_count": 5,
   "id": "a32ac9ce",
   "metadata": {},
   "outputs": [
    {
     "name": "stdout",
     "output_type": "stream",
     "text": [
      "<class 'int'>\n"
     ]
    }
   ],
   "source": [
    "print(type(val))"
   ]
  },
  {
   "cell_type": "code",
   "execution_count": 6,
   "id": "4b9c9f39",
   "metadata": {},
   "outputs": [],
   "source": [
    "val = 45.5"
   ]
  },
  {
   "cell_type": "code",
   "execution_count": 7,
   "id": "8fbee429",
   "metadata": {},
   "outputs": [
    {
     "name": "stdout",
     "output_type": "stream",
     "text": [
      "<class 'float'>\n"
     ]
    }
   ],
   "source": [
    "print(type(val))"
   ]
  },
  {
   "cell_type": "code",
   "execution_count": 8,
   "id": "eee09032",
   "metadata": {},
   "outputs": [],
   "source": [
    "x = 5\n",
    "y = 3+5"
   ]
  },
  {
   "cell_type": "code",
   "execution_count": 9,
   "id": "77bb5bf1",
   "metadata": {},
   "outputs": [
    {
     "name": "stdout",
     "output_type": "stream",
     "text": [
      "4310024560\n",
      "4310024656\n"
     ]
    }
   ],
   "source": [
    "print(id(x))\n",
    "print(id(y))"
   ]
  },
  {
   "cell_type": "code",
   "execution_count": 10,
   "id": "bcee0bef",
   "metadata": {},
   "outputs": [
    {
     "name": "stdout",
     "output_type": "stream",
     "text": [
      "4310024656\n"
     ]
    }
   ],
   "source": [
    "print(id(y))"
   ]
  },
  {
   "cell_type": "code",
   "execution_count": 11,
   "id": "97cf703c",
   "metadata": {},
   "outputs": [],
   "source": [
    "x = 8"
   ]
  },
  {
   "cell_type": "code",
   "execution_count": 12,
   "id": "bb63c080",
   "metadata": {},
   "outputs": [
    {
     "name": "stdout",
     "output_type": "stream",
     "text": [
      "4310024656\n",
      "4310024656\n"
     ]
    }
   ],
   "source": [
    "print(id(x))\n",
    "print(id(y))"
   ]
  },
  {
   "cell_type": "code",
   "execution_count": 13,
   "id": "6bb9f3ae",
   "metadata": {},
   "outputs": [
    {
     "name": "stdout",
     "output_type": "stream",
     "text": [
      "hello world\n"
     ]
    }
   ],
   "source": [
    "print(\"hello\", \"world\")"
   ]
  },
  {
   "cell_type": "code",
   "execution_count": 14,
   "id": "12778f00",
   "metadata": {},
   "outputs": [
    {
     "data": {
      "text/plain": [
       "8"
      ]
     },
     "execution_count": 14,
     "metadata": {},
     "output_type": "execute_result"
    }
   ],
   "source": [
    "eval(\"5+3\")"
   ]
  },
  {
   "cell_type": "code",
   "execution_count": 15,
   "id": "059658fb",
   "metadata": {},
   "outputs": [
    {
     "data": {
      "text/plain": [
       "56.35"
      ]
     },
     "execution_count": 15,
     "metadata": {},
     "output_type": "execute_result"
    }
   ],
   "source": [
    "round(56.3456,2)"
   ]
  },
  {
   "cell_type": "code",
   "execution_count": 16,
   "id": "0d752df4",
   "metadata": {},
   "outputs": [
    {
     "data": {
      "text/plain": [
       "11"
      ]
     },
     "execution_count": 16,
     "metadata": {},
     "output_type": "execute_result"
    }
   ],
   "source": [
    "min(23,64,11,89)"
   ]
  },
  {
   "cell_type": "code",
   "execution_count": 17,
   "id": "2d793a2d",
   "metadata": {},
   "outputs": [
    {
     "data": {
      "text/plain": [
       "73"
      ]
     },
     "execution_count": 17,
     "metadata": {},
     "output_type": "execute_result"
    }
   ],
   "source": [
    "max(73,62,44,11)"
   ]
  },
  {
   "cell_type": "code",
   "execution_count": 18,
   "id": "ec77df0a",
   "metadata": {},
   "outputs": [
    {
     "data": {
      "text/plain": [
       "243"
      ]
     },
     "execution_count": 18,
     "metadata": {},
     "output_type": "execute_result"
    }
   ],
   "source": [
    "pow(3,5)"
   ]
  },
  {
   "cell_type": "code",
   "execution_count": 19,
   "id": "b34e1ea4",
   "metadata": {},
   "outputs": [
    {
     "name": "stdout",
     "output_type": "stream",
     "text": [
      "first class\n"
     ]
    }
   ],
   "source": [
    "import random\n",
    "rand = random.random()\n",
    "if rand<0.5:\n",
    "    print(\"first class\")\n",
    "    \n",
    "else:\n",
    "    print(\"second class\")"
   ]
  },
  {
   "cell_type": "code",
   "execution_count": 20,
   "id": "7f78328f",
   "metadata": {},
   "outputs": [
    {
     "name": "stdout",
     "output_type": "stream",
     "text": [
      "42\n"
     ]
    }
   ],
   "source": [
    "\n",
    "alfa = random.randint(1,100)\n",
    "assert alfa>=20 and alfa<=80\n",
    "print(alfa)\n"
   ]
  },
  {
   "cell_type": "code",
   "execution_count": 21,
   "id": "e2617724",
   "metadata": {},
   "outputs": [
    {
     "data": {
      "text/plain": [
       "5"
      ]
     },
     "execution_count": 21,
     "metadata": {},
     "output_type": "execute_result"
    }
   ],
   "source": [
    "import math\n",
    "x= 4.7\n",
    "math.ceil(x)"
   ]
  },
  {
   "cell_type": "code",
   "execution_count": 22,
   "id": "b78e245a",
   "metadata": {},
   "outputs": [
    {
     "data": {
      "text/plain": [
       "4"
      ]
     },
     "execution_count": 22,
     "metadata": {},
     "output_type": "execute_result"
    }
   ],
   "source": [
    "math.floor(x)"
   ]
  },
  {
   "cell_type": "code",
   "execution_count": 23,
   "id": "ae015b32",
   "metadata": {},
   "outputs": [
    {
     "data": {
      "text/plain": [
       "6.708203932499369"
      ]
     },
     "execution_count": 23,
     "metadata": {},
     "output_type": "execute_result"
    }
   ],
   "source": [
    "math.sqrt(45)"
   ]
  },
  {
   "cell_type": "code",
   "execution_count": 24,
   "id": "88221222",
   "metadata": {},
   "outputs": [
    {
     "data": {
      "text/plain": [
       "-0.5328330203333975"
      ]
     },
     "execution_count": 24,
     "metadata": {},
     "output_type": "execute_result"
    }
   ],
   "source": [
    "math.cos(23)"
   ]
  },
  {
   "cell_type": "code",
   "execution_count": 25,
   "id": "21c09a59",
   "metadata": {},
   "outputs": [
    {
     "data": {
      "text/plain": [
       "-75.31301480008509"
      ]
     },
     "execution_count": 25,
     "metadata": {},
     "output_type": "execute_result"
    }
   ],
   "source": [
    "math.tan(33)"
   ]
  },
  {
   "cell_type": "code",
   "execution_count": 26,
   "id": "1777d4a6",
   "metadata": {},
   "outputs": [
    {
     "data": {
      "text/plain": [
       "0.8268286794901035"
      ]
     },
     "execution_count": 26,
     "metadata": {},
     "output_type": "execute_result"
    }
   ],
   "source": [
    "math.sin(65)"
   ]
  },
  {
   "cell_type": "code",
   "execution_count": 27,
   "id": "3c37587f",
   "metadata": {},
   "outputs": [
    {
     "data": {
      "text/plain": [
       "0.4014257279586958"
      ]
     },
     "execution_count": 27,
     "metadata": {},
     "output_type": "execute_result"
    }
   ],
   "source": [
    "math.radians(23)"
   ]
  },
  {
   "cell_type": "code",
   "execution_count": 28,
   "id": "549d88a5",
   "metadata": {},
   "outputs": [
    {
     "data": {
      "text/plain": [
       "0.863211890069541"
      ]
     },
     "execution_count": 28,
     "metadata": {},
     "output_type": "execute_result"
    }
   ],
   "source": [
    "math.acos(0.65)"
   ]
  },
  {
   "cell_type": "code",
   "execution_count": 29,
   "id": "e3f9624a",
   "metadata": {},
   "outputs": [
    {
     "data": {
      "text/plain": [
       "0.5763752205911837"
      ]
     },
     "execution_count": 29,
     "metadata": {},
     "output_type": "execute_result"
    }
   ],
   "source": [
    "math.atan(0.65)"
   ]
  },
  {
   "cell_type": "code",
   "execution_count": 30,
   "id": "9d610149",
   "metadata": {},
   "outputs": [
    {
     "data": {
      "text/plain": [
       "0.7075844367253556"
      ]
     },
     "execution_count": 30,
     "metadata": {},
     "output_type": "execute_result"
    }
   ],
   "source": [
    "math.asin(0.65)"
   ]
  },
  {
   "cell_type": "code",
   "execution_count": 31,
   "id": "331f1383",
   "metadata": {},
   "outputs": [
    {
     "data": {
      "text/plain": [
       "0.5578858913022596"
      ]
     },
     "execution_count": 31,
     "metadata": {},
     "output_type": "execute_result"
    }
   ],
   "source": [
    "math.log(4,12)"
   ]
  },
  {
   "cell_type": "code",
   "execution_count": 32,
   "id": "de4ee6a8",
   "metadata": {},
   "outputs": [
    {
     "data": {
      "text/plain": [
       "2406.4227395494577"
      ]
     },
     "execution_count": 32,
     "metadata": {},
     "output_type": "execute_result"
    }
   ],
   "source": [
    "math.degrees(42)"
   ]
  },
  {
   "cell_type": "code",
   "execution_count": 33,
   "id": "3ab8563b",
   "metadata": {},
   "outputs": [],
   "source": [
    "def myfun(x,y):\n",
    "    return(x*y)"
   ]
  },
  {
   "cell_type": "code",
   "execution_count": 34,
   "id": "f5f1382b",
   "metadata": {},
   "outputs": [
    {
     "data": {
      "text/plain": [
       "21"
      ]
     },
     "execution_count": 34,
     "metadata": {},
     "output_type": "execute_result"
    }
   ],
   "source": [
    "myfun(3,7)"
   ]
  },
  {
   "cell_type": "code",
   "execution_count": 35,
   "id": "5aa00230",
   "metadata": {},
   "outputs": [],
   "source": [
    "def myfun1(x,y=9):\n",
    "    return(x*y)"
   ]
  },
  {
   "cell_type": "code",
   "execution_count": 36,
   "id": "58067ee1",
   "metadata": {},
   "outputs": [
    {
     "data": {
      "text/plain": [
       "18"
      ]
     },
     "execution_count": 36,
     "metadata": {},
     "output_type": "execute_result"
    }
   ],
   "source": [
    "myfun1(2)"
   ]
  },
  {
   "cell_type": "code",
   "execution_count": null,
   "id": "2ef11992",
   "metadata": {},
   "outputs": [
    {
     "name": "stdout",
     "output_type": "stream",
     "text": [
      "0\n",
      "1\n",
      "2\n",
      "3\n",
      "4\n",
      "5\n",
      "6\n",
      "7\n",
      "8\n",
      "9\n"
     ]
    }
   ],
   "source": [
    "for i in range(0,10):\n",
    "    print(i)"
   ]
  },
  {
   "cell_type": "code",
   "execution_count": null,
   "id": "9647041b",
   "metadata": {},
   "outputs": [
    {
     "name": "stdout",
     "output_type": "stream",
     "text": [
      "0\n",
      "1\n",
      "2\n",
      "3\n",
      "4\n",
      "5\n",
      "6\n",
      "7\n",
      "8\n",
      "9\n"
     ]
    }
   ],
   "source": [
    "for i in range(10):\n",
    "    print(i)"
   ]
  },
  {
   "cell_type": "code",
   "execution_count": null,
   "id": "4d80cf1c",
   "metadata": {},
   "outputs": [
    {
     "name": "stdout",
     "output_type": "stream",
     "text": [
      "0\n",
      "3\n",
      "6\n",
      "9\n",
      "12\n",
      "15\n",
      "18\n",
      "21\n",
      "24\n",
      "27\n"
     ]
    }
   ],
   "source": [
    "for i in range(0,30,3):\n",
    "    print(i)"
   ]
  },
  {
   "cell_type": "code",
   "execution_count": null,
   "id": "eaa2e5e9",
   "metadata": {},
   "outputs": [
    {
     "name": "stdout",
     "output_type": "stream",
     "text": [
      "30\n",
      "27\n",
      "24\n",
      "21\n",
      "18\n",
      "15\n",
      "12\n",
      "9\n",
      "6\n",
      "3\n",
      "0\n"
     ]
    }
   ],
   "source": [
    "for i in range(30,-3,-3):\n",
    "    print(i)"
   ]
  },
  {
   "cell_type": "markdown",
   "id": "07b3caf5",
   "metadata": {},
   "source": [
    "### Program to compute grades(using if-else)"
   ]
  },
  {
   "cell_type": "code",
   "execution_count": 3,
   "id": "305598b7",
   "metadata": {},
   "outputs": [
    {
     "name": "stdout",
     "output_type": "stream",
     "text": [
      "Enter marks of student44\n",
      "Grade D\n"
     ]
    }
   ],
   "source": [
    "marks = int(input(\"Enter marks of student\"))\n",
    "if marks>=90:\n",
    "    print(\"Grade A\")\n",
    "elif marks>=70 and marks<90:\n",
    "    print(\"Grade B\")\n",
    "elif marks>=50 and marks<70:\n",
    "    print(\"Grade C\")\n",
    "elif marks>=40 and marks<50:\n",
    "    print(\"Grade D\")\n",
    "else:\n",
    "    print(\"Grade C\")"
   ]
  },
  {
   "cell_type": "markdown",
   "id": "8f4f83af",
   "metadata": {},
   "source": [
    "### Program to implement Pattern"
   ]
  },
  {
   "cell_type": "code",
   "execution_count": 4,
   "id": "4145a646",
   "metadata": {},
   "outputs": [
    {
     "name": "stdout",
     "output_type": "stream",
     "text": [
      "Enter the number of symbol: 11\n",
      "***********\n",
      "\n",
      "***** *****\n",
      "\n",
      "****   ****\n",
      "\n",
      "***     ***\n",
      "\n",
      "**       **\n",
      "\n",
      "*         *\n",
      "\n"
     ]
    }
   ],
   "source": [
    "n = int(input(\"Enter the number of symbol: \"))\n",
    "no_of_rows = n//2+1\n",
    "s=n//2\n",
    "e=n//2\n",
    "for i in range(0,no_of_rows):\n",
    "    for j in range(0,n):\n",
    "        if i==0:\n",
    "            print('*',end ='')\n",
    "        else:\n",
    "            if j<=s or j>=e:\n",
    "                print('*',end ='')\n",
    "            else:\n",
    "                print(' ',end ='')\n",
    "    s=s-1\n",
    "    e=e+1\n",
    "    print(\"\\n\")  "
   ]
  },
  {
   "cell_type": "code",
   "execution_count": 5,
   "id": "21e36317",
   "metadata": {},
   "outputs": [
    {
     "name": "stdout",
     "output_type": "stream",
     "text": [
      "Enter the number of symbol: 11\n",
      "***********\n",
      "\n",
      "***** *****\n",
      "\n",
      "****   ****\n",
      "\n",
      "***     ***\n",
      "\n",
      "**       **\n",
      "\n",
      "*         *\n",
      "\n",
      "**       **\n",
      "\n",
      "***     ***\n",
      "\n",
      "****   ****\n",
      "\n",
      "***** *****\n",
      "\n",
      "***********\n",
      "\n"
     ]
    }
   ],
   "source": [
    "n = int(input(\"Enter the number of symbol: \"))\n",
    "no_of_rows = n//2+1\n",
    "s=n//2\n",
    "e=n//2\n",
    "for i in range(0,no_of_rows*2-1):\n",
    "    for j in range(0,n):\n",
    "        if i<no_of_rows:\n",
    "            if j<=s or j>=e:\n",
    "                print('*',end ='')\n",
    "            else:\n",
    "                print(' ',end ='')\n",
    "        else:\n",
    "            if j<=s or j>=e:\n",
    "                print('*',end ='')\n",
    "            else:\n",
    "                print(' ',end ='')\n",
    "    if i<no_of_rows-1:\n",
    "        s=s-1\n",
    "        e=e+1\n",
    "    else:\n",
    "        s+=1\n",
    "        e-=1\n",
    "    print(\"\\n\")"
   ]
  },
  {
   "cell_type": "code",
   "execution_count": null,
   "id": "5b0341ce",
   "metadata": {},
   "outputs": [],
   "source": []
  }
 ],
 "metadata": {
  "kernelspec": {
   "display_name": "Python 3 (ipykernel)",
   "language": "python",
   "name": "python3"
  },
  "language_info": {
   "codemirror_mode": {
    "name": "ipython",
    "version": 3
   },
   "file_extension": ".py",
   "mimetype": "text/x-python",
   "name": "python",
   "nbconvert_exporter": "python",
   "pygments_lexer": "ipython3",
   "version": "3.9.6"
  }
 },
 "nbformat": 4,
 "nbformat_minor": 5
}
