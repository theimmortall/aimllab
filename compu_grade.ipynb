{
 "cells": [
  {
   "cell_type": "markdown",
   "id": "6fcbfb18",
   "metadata": {},
   "source": [
    "### Program to compute grades(using if-else)"
   ]
  },
  {
   "cell_type": "code",
   "execution_count": 1,
   "id": "f2ff72df",
   "metadata": {},
   "outputs": [
    {
     "name": "stdout",
     "output_type": "stream",
     "text": [
      "Enter marks of student44\n",
      "Grade D\n"
     ]
    }
   ],
   "source": [
    "marks = int(input(\"Enter marks of student\"))\n",
    "if marks>=90:\n",
    "    print(\"Grade A\")\n",
    "elif marks>=70 and marks<90:\n",
    "    print(\"Grade B\")\n",
    "elif marks>=50 and marks<70:\n",
    "    print(\"Grade C\")\n",
    "elif marks>=40 and marks<50:\n",
    "    print(\"Grade D\")\n",
    "else:\n",
    "    print(\"Grade C\")"
   ]
  },
  {
   "cell_type": "code",
   "execution_count": null,
   "id": "6196a9e4",
   "metadata": {},
   "outputs": [],
   "source": []
  }
 ],
 "metadata": {
  "kernelspec": {
   "display_name": "Python 3 (ipykernel)",
   "language": "python",
   "name": "python3"
  },
  "language_info": {
   "codemirror_mode": {
    "name": "ipython",
    "version": 3
   },
   "file_extension": ".py",
   "mimetype": "text/x-python",
   "name": "python",
   "nbconvert_exporter": "python",
   "pygments_lexer": "ipython3",
   "version": "3.9.6"
  }
 },
 "nbformat": 4,
 "nbformat_minor": 5
}
