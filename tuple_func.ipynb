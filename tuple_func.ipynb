{
 "cells": [
  {
   "cell_type": "markdown",
   "id": "721981c9",
   "metadata": {},
   "source": [
    "### Tuple Functions"
   ]
  },
  {
   "cell_type": "code",
   "execution_count": 29,
   "id": "ae3148f0",
   "metadata": {},
   "outputs": [],
   "source": [
    "tup1 = (3,4,8,5,1,5)\n",
    "tup2 = (2,7,5,11,12)\n",
    "tup3 = (13,75,23,55)"
   ]
  },
  {
   "cell_type": "code",
   "execution_count": 30,
   "id": "9f75c30e",
   "metadata": {},
   "outputs": [
    {
     "data": {
      "text/plain": [
       "(2, 7, 5, 11, 12, 3)"
      ]
     },
     "execution_count": 30,
     "metadata": {},
     "output_type": "execute_result"
    }
   ],
   "source": [
    "tup2+(3,)"
   ]
  },
  {
   "cell_type": "code",
   "execution_count": 31,
   "id": "2def042c",
   "metadata": {},
   "outputs": [
    {
     "data": {
      "text/plain": [
       "6"
      ]
     },
     "execution_count": 31,
     "metadata": {},
     "output_type": "execute_result"
    }
   ],
   "source": [
    "len(tup1)"
   ]
  },
  {
   "cell_type": "code",
   "execution_count": 32,
   "id": "bbabb03b",
   "metadata": {},
   "outputs": [
    {
     "data": {
      "text/plain": [
       "(3, 4, 8, 5, 1, 5, 13, 75, 23, 55)"
      ]
     },
     "execution_count": 32,
     "metadata": {},
     "output_type": "execute_result"
    }
   ],
   "source": [
    "tup1 + tup3"
   ]
  },
  {
   "cell_type": "code",
   "execution_count": 33,
   "id": "9bc7e3d7",
   "metadata": {},
   "outputs": [
    {
     "data": {
      "text/plain": [
       "8"
      ]
     },
     "execution_count": 33,
     "metadata": {},
     "output_type": "execute_result"
    }
   ],
   "source": [
    "tup1[2]"
   ]
  },
  {
   "cell_type": "code",
   "execution_count": 34,
   "id": "3c97d34b",
   "metadata": {},
   "outputs": [
    {
     "data": {
      "text/plain": [
       "[('Divyam', 2), ('Aman', 3), ('Anam', 1), ('Ananya', 4)]"
      ]
     },
     "execution_count": 34,
     "metadata": {},
     "output_type": "execute_result"
    }
   ],
   "source": [
    "stu_name = (['Divyam', 'Aman', 'Anam', 'Ananya'])\n",
    "stu_roll = ([2,3,1,4])\n",
    "zipped = list(zip(stu_name,stu_roll))\n",
    "zipped"
   ]
  },
  {
   "cell_type": "code",
   "execution_count": 35,
   "id": "1767e4c7",
   "metadata": {},
   "outputs": [
    {
     "data": {
      "text/plain": [
       "(8, 5, 1, 5)"
      ]
     },
     "execution_count": 35,
     "metadata": {},
     "output_type": "execute_result"
    }
   ],
   "source": [
    "tup1[2:]"
   ]
  },
  {
   "cell_type": "code",
   "execution_count": 36,
   "id": "5ce8f986",
   "metadata": {},
   "outputs": [
    {
     "data": {
      "text/plain": [
       "8"
      ]
     },
     "execution_count": 36,
     "metadata": {},
     "output_type": "execute_result"
    }
   ],
   "source": [
    "max(tup1)"
   ]
  },
  {
   "cell_type": "code",
   "execution_count": 37,
   "id": "333efb42",
   "metadata": {},
   "outputs": [
    {
     "data": {
      "text/plain": [
       "1"
      ]
     },
     "execution_count": 37,
     "metadata": {},
     "output_type": "execute_result"
    }
   ],
   "source": [
    "min(tup1)"
   ]
  },
  {
   "cell_type": "code",
   "execution_count": 38,
   "id": "10223941",
   "metadata": {},
   "outputs": [
    {
     "data": {
      "text/plain": [
       "2"
      ]
     },
     "execution_count": 38,
     "metadata": {},
     "output_type": "execute_result"
    }
   ],
   "source": [
    "tup1.count(5)"
   ]
  },
  {
   "cell_type": "code",
   "execution_count": 41,
   "id": "4bf96977",
   "metadata": {},
   "outputs": [
    {
     "data": {
      "text/plain": [
       "4"
      ]
     },
     "execution_count": 41,
     "metadata": {},
     "output_type": "execute_result"
    }
   ],
   "source": [
    "tup1.index(1)"
   ]
  }
 ],
 "metadata": {
  "kernelspec": {
   "display_name": "Python 3 (ipykernel)",
   "language": "python",
   "name": "python3"
  },
  "language_info": {
   "codemirror_mode": {
    "name": "ipython",
    "version": 3
   },
   "file_extension": ".py",
   "mimetype": "text/x-python",
   "name": "python",
   "nbconvert_exporter": "python",
   "pygments_lexer": "ipython3",
   "version": "3.9.6"
  }
 },
 "nbformat": 4,
 "nbformat_minor": 5
}
