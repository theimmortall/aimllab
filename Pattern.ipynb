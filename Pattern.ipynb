{
 "cells": [
  {
   "cell_type": "markdown",
   "id": "3625462f",
   "metadata": {},
   "source": [
    "### Program to implement Pattern"
   ]
  },
  {
   "cell_type": "code",
   "execution_count": 1,
   "id": "750ee600",
   "metadata": {},
   "outputs": [
    {
     "name": "stdout",
     "output_type": "stream",
     "text": [
      "Enter the number of symbol: 11\n",
      "***********\n",
      "\n",
      "***** *****\n",
      "\n",
      "****   ****\n",
      "\n",
      "***     ***\n",
      "\n",
      "**       **\n",
      "\n",
      "*         *\n",
      "\n"
     ]
    }
   ],
   "source": [
    "n = int(input(\"Enter the number of symbol: \"))\n",
    "no_of_rows = n//2+1\n",
    "s=n//2\n",
    "e=n//2\n",
    "for i in range(0,no_of_rows):\n",
    "    for j in range(0,n):\n",
    "        if i==0:\n",
    "            print('*',end ='')\n",
    "        else:\n",
    "            if j<=s or j>=e:\n",
    "                print('*',end ='')\n",
    "            else:\n",
    "                print(' ',end ='')\n",
    "    s=s-1\n",
    "    e=e+1\n",
    "    print(\"\\n\")  "
   ]
  },
  {
   "cell_type": "code",
   "execution_count": 3,
   "id": "7271c4c1",
   "metadata": {},
   "outputs": [
    {
     "name": "stdout",
     "output_type": "stream",
     "text": [
      "Enter the number of symbol: 11\n",
      "***********\n",
      "\n",
      "***** *****\n",
      "\n",
      "****   ****\n",
      "\n",
      "***     ***\n",
      "\n",
      "**       **\n",
      "\n",
      "*         *\n",
      "\n",
      "**       **\n",
      "\n",
      "***     ***\n",
      "\n",
      "****   ****\n",
      "\n",
      "***** *****\n",
      "\n",
      "***********\n",
      "\n"
     ]
    }
   ],
   "source": [
    "n = int(input(\"Enter the number of symbol: \"))\n",
    "no_of_rows = n//2+1\n",
    "s=n//2\n",
    "e=n//2\n",
    "for i in range(0,no_of_rows*2-1):\n",
    "    for j in range(0,n):\n",
    "        if i<no_of_rows:\n",
    "            if j<=s or j>=e:\n",
    "                print('*',end ='')\n",
    "            else:\n",
    "                print(' ',end ='')\n",
    "        else:\n",
    "            if j<=s or j>=e:\n",
    "                print('*',end ='')\n",
    "            else:\n",
    "                print(' ',end ='')\n",
    "    if i<no_of_rows-1:\n",
    "        s=s-1\n",
    "        e=e+1\n",
    "    else:\n",
    "        s+=1\n",
    "        e-=1\n",
    "    print(\"\\n\")"
   ]
  },
  {
   "cell_type": "code",
   "execution_count": null,
   "id": "6117c5c3",
   "metadata": {},
   "outputs": [],
   "source": []
  }
 ],
 "metadata": {
  "kernelspec": {
   "display_name": "Python 3 (ipykernel)",
   "language": "python",
   "name": "python3"
  },
  "language_info": {
   "codemirror_mode": {
    "name": "ipython",
    "version": 3
   },
   "file_extension": ".py",
   "mimetype": "text/x-python",
   "name": "python",
   "nbconvert_exporter": "python",
   "pygments_lexer": "ipython3",
   "version": "3.9.6"
  }
 },
 "nbformat": 4,
 "nbformat_minor": 5
}
