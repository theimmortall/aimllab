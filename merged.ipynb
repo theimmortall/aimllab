{
 "cells": [
  {
   "cell_type": "markdown",
   "id": "807485dc",
   "metadata": {},
   "source": [
    "### Basic Functions of Python"
   ]
  },
  {
   "cell_type": "code",
   "execution_count": 1,
   "id": "9b78170f",
   "metadata": {},
   "outputs": [
    {
     "data": {
      "text/plain": [
       "'hello world'"
      ]
     },
     "execution_count": 1,
     "metadata": {},
     "output_type": "execute_result"
    }
   ],
   "source": [
    "'hello world'"
   ]
  },
  {
   "cell_type": "code",
   "execution_count": 2,
   "id": "d78e07b4",
   "metadata": {},
   "outputs": [
    {
     "name": "stdout",
     "output_type": "stream",
     "text": [
      "hello world\n"
     ]
    }
   ],
   "source": [
    "print(\"hello world\")"
   ]
  },
  {
   "cell_type": "code",
   "execution_count": 3,
   "id": "e89fd357",
   "metadata": {},
   "outputs": [
    {
     "name": "stdout",
     "output_type": "stream",
     "text": [
      "hello world "
     ]
    }
   ],
   "source": [
    "print(\"hello world\",end=\" \")"
   ]
  },
  {
   "cell_type": "code",
   "execution_count": 4,
   "id": "e433670a",
   "metadata": {},
   "outputs": [],
   "source": [
    "val = 50"
   ]
  },
  {
   "cell_type": "code",
   "execution_count": 5,
   "id": "a32ac9ce",
   "metadata": {},
   "outputs": [
    {
     "name": "stdout",
     "output_type": "stream",
     "text": [
      "<class 'int'>\n"
     ]
    }
   ],
   "source": [
    "print(type(val))"
   ]
  },
  {
   "cell_type": "code",
   "execution_count": 6,
   "id": "4b9c9f39",
   "metadata": {},
   "outputs": [],
   "source": [
    "val = 45.5"
   ]
  },
  {
   "cell_type": "code",
   "execution_count": 7,
   "id": "8fbee429",
   "metadata": {},
   "outputs": [
    {
     "name": "stdout",
     "output_type": "stream",
     "text": [
      "<class 'float'>\n"
     ]
    }
   ],
   "source": [
    "print(type(val))"
   ]
  },
  {
   "cell_type": "code",
   "execution_count": 8,
   "id": "eee09032",
   "metadata": {},
   "outputs": [],
   "source": [
    "x = 5\n",
    "y = 3+5"
   ]
  },
  {
   "cell_type": "code",
   "execution_count": 9,
   "id": "77bb5bf1",
   "metadata": {},
   "outputs": [
    {
     "name": "stdout",
     "output_type": "stream",
     "text": [
      "4310024560\n",
      "4310024656\n"
     ]
    }
   ],
   "source": [
    "print(id(x))\n",
    "print(id(y))"
   ]
  },
  {
   "cell_type": "code",
   "execution_count": 10,
   "id": "bcee0bef",
   "metadata": {},
   "outputs": [
    {
     "name": "stdout",
     "output_type": "stream",
     "text": [
      "4310024656\n"
     ]
    }
   ],
   "source": [
    "print(id(y))"
   ]
  },
  {
   "cell_type": "code",
   "execution_count": 11,
   "id": "97cf703c",
   "metadata": {},
   "outputs": [],
   "source": [
    "x = 8"
   ]
  },
  {
   "cell_type": "code",
   "execution_count": 12,
   "id": "bb63c080",
   "metadata": {},
   "outputs": [
    {
     "name": "stdout",
     "output_type": "stream",
     "text": [
      "4310024656\n",
      "4310024656\n"
     ]
    }
   ],
   "source": [
    "print(id(x))\n",
    "print(id(y))"
   ]
  },
  {
   "cell_type": "code",
   "execution_count": 13,
   "id": "6bb9f3ae",
   "metadata": {},
   "outputs": [
    {
     "name": "stdout",
     "output_type": "stream",
     "text": [
      "hello world\n"
     ]
    }
   ],
   "source": [
    "print(\"hello\", \"world\")"
   ]
  },
  {
   "cell_type": "code",
   "execution_count": 14,
   "id": "12778f00",
   "metadata": {},
   "outputs": [
    {
     "data": {
      "text/plain": [
       "8"
      ]
     },
     "execution_count": 14,
     "metadata": {},
     "output_type": "execute_result"
    }
   ],
   "source": [
    "eval(\"5+3\")"
   ]
  },
  {
   "cell_type": "code",
   "execution_count": 15,
   "id": "059658fb",
   "metadata": {},
   "outputs": [
    {
     "data": {
      "text/plain": [
       "56.35"
      ]
     },
     "execution_count": 15,
     "metadata": {},
     "output_type": "execute_result"
    }
   ],
   "source": [
    "round(56.3456,2)"
   ]
  },
  {
   "cell_type": "code",
   "execution_count": 16,
   "id": "0d752df4",
   "metadata": {},
   "outputs": [
    {
     "data": {
      "text/plain": [
       "11"
      ]
     },
     "execution_count": 16,
     "metadata": {},
     "output_type": "execute_result"
    }
   ],
   "source": [
    "min(23,64,11,89)"
   ]
  },
  {
   "cell_type": "code",
   "execution_count": 17,
   "id": "2d793a2d",
   "metadata": {},
   "outputs": [
    {
     "data": {
      "text/plain": [
       "73"
      ]
     },
     "execution_count": 17,
     "metadata": {},
     "output_type": "execute_result"
    }
   ],
   "source": [
    "max(73,62,44,11)"
   ]
  },
  {
   "cell_type": "code",
   "execution_count": 18,
   "id": "ec77df0a",
   "metadata": {},
   "outputs": [
    {
     "data": {
      "text/plain": [
       "243"
      ]
     },
     "execution_count": 18,
     "metadata": {},
     "output_type": "execute_result"
    }
   ],
   "source": [
    "pow(3,5)"
   ]
  },
  {
   "cell_type": "code",
   "execution_count": 19,
   "id": "b34e1ea4",
   "metadata": {},
   "outputs": [
    {
     "name": "stdout",
     "output_type": "stream",
     "text": [
      "first class\n"
     ]
    }
   ],
   "source": [
    "import random\n",
    "rand = random.random()\n",
    "if rand<0.5:\n",
    "    print(\"first class\")\n",
    "    \n",
    "else:\n",
    "    print(\"second class\")"
   ]
  },
  {
   "cell_type": "code",
   "execution_count": 20,
   "id": "7f78328f",
   "metadata": {},
   "outputs": [
    {
     "name": "stdout",
     "output_type": "stream",
     "text": [
      "42\n"
     ]
    }
   ],
   "source": [
    "\n",
    "alfa = random.randint(1,100)\n",
    "assert alfa>=20 and alfa<=80\n",
    "print(alfa)\n"
   ]
  },
  {
   "cell_type": "code",
   "execution_count": 21,
   "id": "e2617724",
   "metadata": {},
   "outputs": [
    {
     "data": {
      "text/plain": [
       "5"
      ]
     },
     "execution_count": 21,
     "metadata": {},
     "output_type": "execute_result"
    }
   ],
   "source": [
    "import math\n",
    "x= 4.7\n",
    "math.ceil(x)"
   ]
  },
  {
   "cell_type": "code",
   "execution_count": 22,
   "id": "b78e245a",
   "metadata": {},
   "outputs": [
    {
     "data": {
      "text/plain": [
       "4"
      ]
     },
     "execution_count": 22,
     "metadata": {},
     "output_type": "execute_result"
    }
   ],
   "source": [
    "math.floor(x)"
   ]
  },
  {
   "cell_type": "code",
   "execution_count": 23,
   "id": "ae015b32",
   "metadata": {},
   "outputs": [
    {
     "data": {
      "text/plain": [
       "6.708203932499369"
      ]
     },
     "execution_count": 23,
     "metadata": {},
     "output_type": "execute_result"
    }
   ],
   "source": [
    "math.sqrt(45)"
   ]
  },
  {
   "cell_type": "code",
   "execution_count": 24,
   "id": "88221222",
   "metadata": {},
   "outputs": [
    {
     "data": {
      "text/plain": [
       "-0.5328330203333975"
      ]
     },
     "execution_count": 24,
     "metadata": {},
     "output_type": "execute_result"
    }
   ],
   "source": [
    "math.cos(23)"
   ]
  },
  {
   "cell_type": "code",
   "execution_count": 25,
   "id": "21c09a59",
   "metadata": {},
   "outputs": [
    {
     "data": {
      "text/plain": [
       "-75.31301480008509"
      ]
     },
     "execution_count": 25,
     "metadata": {},
     "output_type": "execute_result"
    }
   ],
   "source": [
    "math.tan(33)"
   ]
  },
  {
   "cell_type": "code",
   "execution_count": 26,
   "id": "1777d4a6",
   "metadata": {},
   "outputs": [
    {
     "data": {
      "text/plain": [
       "0.8268286794901035"
      ]
     },
     "execution_count": 26,
     "metadata": {},
     "output_type": "execute_result"
    }
   ],
   "source": [
    "math.sin(65)"
   ]
  },
  {
   "cell_type": "code",
   "execution_count": 27,
   "id": "3c37587f",
   "metadata": {},
   "outputs": [
    {
     "data": {
      "text/plain": [
       "0.4014257279586958"
      ]
     },
     "execution_count": 27,
     "metadata": {},
     "output_type": "execute_result"
    }
   ],
   "source": [
    "math.radians(23)"
   ]
  },
  {
   "cell_type": "code",
   "execution_count": 28,
   "id": "549d88a5",
   "metadata": {},
   "outputs": [
    {
     "data": {
      "text/plain": [
       "0.863211890069541"
      ]
     },
     "execution_count": 28,
     "metadata": {},
     "output_type": "execute_result"
    }
   ],
   "source": [
    "math.acos(0.65)"
   ]
  },
  {
   "cell_type": "code",
   "execution_count": 29,
   "id": "e3f9624a",
   "metadata": {},
   "outputs": [
    {
     "data": {
      "text/plain": [
       "0.5763752205911837"
      ]
     },
     "execution_count": 29,
     "metadata": {},
     "output_type": "execute_result"
    }
   ],
   "source": [
    "math.atan(0.65)"
   ]
  },
  {
   "cell_type": "code",
   "execution_count": 30,
   "id": "9d610149",
   "metadata": {},
   "outputs": [
    {
     "data": {
      "text/plain": [
       "0.7075844367253556"
      ]
     },
     "execution_count": 30,
     "metadata": {},
     "output_type": "execute_result"
    }
   ],
   "source": [
    "math.asin(0.65)"
   ]
  },
  {
   "cell_type": "code",
   "execution_count": 31,
   "id": "331f1383",
   "metadata": {},
   "outputs": [
    {
     "data": {
      "text/plain": [
       "0.5578858913022596"
      ]
     },
     "execution_count": 31,
     "metadata": {},
     "output_type": "execute_result"
    }
   ],
   "source": [
    "math.log(4,12)"
   ]
  },
  {
   "cell_type": "code",
   "execution_count": 32,
   "id": "de4ee6a8",
   "metadata": {},
   "outputs": [
    {
     "data": {
      "text/plain": [
       "2406.4227395494577"
      ]
     },
     "execution_count": 32,
     "metadata": {},
     "output_type": "execute_result"
    }
   ],
   "source": [
    "math.degrees(42)"
   ]
  },
  {
   "cell_type": "code",
   "execution_count": 33,
   "id": "3ab8563b",
   "metadata": {},
   "outputs": [],
   "source": [
    "def myfun(x,y):\n",
    "    return(x*y)"
   ]
  },
  {
   "cell_type": "code",
   "execution_count": 34,
   "id": "f5f1382b",
   "metadata": {},
   "outputs": [
    {
     "data": {
      "text/plain": [
       "21"
      ]
     },
     "execution_count": 34,
     "metadata": {},
     "output_type": "execute_result"
    }
   ],
   "source": [
    "myfun(3,7)"
   ]
  },
  {
   "cell_type": "code",
   "execution_count": 35,
   "id": "5aa00230",
   "metadata": {},
   "outputs": [],
   "source": [
    "def myfun1(x,y=9):\n",
    "    return(x*y)"
   ]
  },
  {
   "cell_type": "code",
   "execution_count": 36,
   "id": "58067ee1",
   "metadata": {},
   "outputs": [
    {
     "data": {
      "text/plain": [
       "18"
      ]
     },
     "execution_count": 36,
     "metadata": {},
     "output_type": "execute_result"
    }
   ],
   "source": [
    "myfun1(2)"
   ]
  },
  {
   "cell_type": "code",
   "execution_count": null,
   "id": "2ef11992",
   "metadata": {},
   "outputs": [
    {
     "name": "stdout",
     "output_type": "stream",
     "text": [
      "0\n",
      "1\n",
      "2\n",
      "3\n",
      "4\n",
      "5\n",
      "6\n",
      "7\n",
      "8\n",
      "9\n"
     ]
    }
   ],
   "source": [
    "for i in range(0,10):\n",
    "    print(i)"
   ]
  },
  {
   "cell_type": "code",
   "execution_count": null,
   "id": "9647041b",
   "metadata": {},
   "outputs": [
    {
     "name": "stdout",
     "output_type": "stream",
     "text": [
      "0\n",
      "1\n",
      "2\n",
      "3\n",
      "4\n",
      "5\n",
      "6\n",
      "7\n",
      "8\n",
      "9\n"
     ]
    }
   ],
   "source": [
    "for i in range(10):\n",
    "    print(i)"
   ]
  },
  {
   "cell_type": "code",
   "execution_count": null,
   "id": "4d80cf1c",
   "metadata": {},
   "outputs": [
    {
     "name": "stdout",
     "output_type": "stream",
     "text": [
      "0\n",
      "3\n",
      "6\n",
      "9\n",
      "12\n",
      "15\n",
      "18\n",
      "21\n",
      "24\n",
      "27\n"
     ]
    }
   ],
   "source": [
    "for i in range(0,30,3):\n",
    "    print(i)"
   ]
  },
  {
   "cell_type": "code",
   "execution_count": null,
   "id": "eaa2e5e9",
   "metadata": {},
   "outputs": [
    {
     "name": "stdout",
     "output_type": "stream",
     "text": [
      "30\n",
      "27\n",
      "24\n",
      "21\n",
      "18\n",
      "15\n",
      "12\n",
      "9\n",
      "6\n",
      "3\n",
      "0\n"
     ]
    }
   ],
   "source": [
    "for i in range(30,-3,-3):\n",
    "    print(i)"
   ]
  },
  {
   "cell_type": "markdown",
   "id": "07b3caf5",
   "metadata": {},
   "source": [
    "### Program to compute grades(using if-else)"
   ]
  },
  {
   "cell_type": "code",
   "execution_count": 3,
   "id": "305598b7",
   "metadata": {},
   "outputs": [
    {
     "name": "stdout",
     "output_type": "stream",
     "text": [
      "Enter marks of student44\n",
      "Grade D\n"
     ]
    }
   ],
   "source": [
    "marks = int(input(\"Enter marks of student\"))\n",
    "if marks>=90:\n",
    "    print(\"Grade A\")\n",
    "elif marks>=70 and marks<90:\n",
    "    print(\"Grade B\")\n",
    "elif marks>=50 and marks<70:\n",
    "    print(\"Grade C\")\n",
    "elif marks>=40 and marks<50:\n",
    "    print(\"Grade D\")\n",
    "else:\n",
    "    print(\"Grade C\")"
   ]
  },
  {
   "cell_type": "markdown",
   "id": "8f4f83af",
   "metadata": {},
   "source": [
    "### Program to implement Pattern"
   ]
  },
  {
   "cell_type": "code",
   "execution_count": 4,
   "id": "4145a646",
   "metadata": {},
   "outputs": [
    {
     "name": "stdout",
     "output_type": "stream",
     "text": [
      "Enter the number of symbol: 11\n",
      "***********\n",
      "\n",
      "***** *****\n",
      "\n",
      "****   ****\n",
      "\n",
      "***     ***\n",
      "\n",
      "**       **\n",
      "\n",
      "*         *\n",
      "\n"
     ]
    }
   ],
   "source": [
    "n = int(input(\"Enter the number of symbol: \"))\n",
    "no_of_rows = n//2+1\n",
    "s=n//2\n",
    "e=n//2\n",
    "for i in range(0,no_of_rows):\n",
    "    for j in range(0,n):\n",
    "        if i==0:\n",
    "            print('*',end ='')\n",
    "        else:\n",
    "            if j<=s or j>=e:\n",
    "                print('*',end ='')\n",
    "            else:\n",
    "                print(' ',end ='')\n",
    "    s=s-1\n",
    "    e=e+1\n",
    "    print(\"\\n\")  "
   ]
  },
  {
   "cell_type": "code",
   "execution_count": 5,
   "id": "21e36317",
   "metadata": {},
   "outputs": [
    {
     "name": "stdout",
     "output_type": "stream",
     "text": [
      "Enter the number of symbol: 11\n",
      "***********\n",
      "\n",
      "***** *****\n",
      "\n",
      "****   ****\n",
      "\n",
      "***     ***\n",
      "\n",
      "**       **\n",
      "\n",
      "*         *\n",
      "\n",
      "**       **\n",
      "\n",
      "***     ***\n",
      "\n",
      "****   ****\n",
      "\n",
      "***** *****\n",
      "\n",
      "***********\n",
      "\n"
     ]
    }
   ],
   "source": [
    "n = int(input(\"Enter the number of symbol: \"))\n",
    "no_of_rows = n//2+1\n",
    "s=n//2\n",
    "e=n//2\n",
    "for i in range(0,no_of_rows*2-1):\n",
    "    for j in range(0,n):\n",
    "        if i<no_of_rows:\n",
    "            if j<=s or j>=e:\n",
    "                print('*',end ='')\n",
    "            else:\n",
    "                print(' ',end ='')\n",
    "        else:\n",
    "            if j<=s or j>=e:\n",
    "                print('*',end ='')\n",
    "            else:\n",
    "                print(' ',end ='')\n",
    "    if i<no_of_rows-1:\n",
    "        s=s-1\n",
    "        e=e+1\n",
    "    else:\n",
    "        s+=1\n",
    "        e-=1\n",
    "    print(\"\\n\")"
   ]
  },
  {
   "cell_type": "markdown",
   "id": "6fcbfb18",
   "metadata": {},
   "source": [
    "### Program to compute grades(using if-else)"
   ]
  },
  {
   "cell_type": "code",
   "execution_count": 1,
   "id": "f2ff72df",
   "metadata": {},
   "outputs": [
    {
     "name": "stdout",
     "output_type": "stream",
     "text": [
      "Enter marks of student44\n",
      "Grade D\n"
     ]
    }
   ],
   "source": [
    "marks = int(input(\"Enter marks of student\"))\n",
    "if marks>=90:\n",
    "    print(\"Grade A\")\n",
    "elif marks>=70 and marks<90:\n",
    "    print(\"Grade B\")\n",
    "elif marks>=50 and marks<70:\n",
    "    print(\"Grade C\")\n",
    "elif marks>=40 and marks<50:\n",
    "    print(\"Grade D\")\n",
    "else:\n",
    "    print(\"Grade C\")"
   ]
  },
  {
   "cell_type": "markdown",
   "id": "ccf8948c",
   "metadata": {},
   "source": [
    "### String Functions"
   ]
  },
  {
   "cell_type": "code",
   "execution_count": 1,
   "id": "d5379579",
   "metadata": {},
   "outputs": [
    {
     "data": {
      "text/plain": [
       "'Hello World'"
      ]
     },
     "execution_count": 1,
     "metadata": {},
     "output_type": "execute_result"
    }
   ],
   "source": [
    "message = \"Hello World\"\n",
    "message"
   ]
  },
  {
   "cell_type": "code",
   "execution_count": 2,
   "id": "41110ae8",
   "metadata": {},
   "outputs": [
    {
     "data": {
      "text/plain": [
       "'o'"
      ]
     },
     "execution_count": 2,
     "metadata": {},
     "output_type": "execute_result"
    }
   ],
   "source": [
    "message[4]"
   ]
  },
  {
   "cell_type": "code",
   "execution_count": 3,
   "id": "731f67e5",
   "metadata": {},
   "outputs": [
    {
     "data": {
      "text/plain": [
       "'r'"
      ]
     },
     "execution_count": 3,
     "metadata": {},
     "output_type": "execute_result"
    }
   ],
   "source": [
    "message[-3]"
   ]
  },
  {
   "cell_type": "code",
   "execution_count": 4,
   "id": "5356021c",
   "metadata": {},
   "outputs": [
    {
     "data": {
      "text/plain": [
       "462978075376"
      ]
     },
     "execution_count": 4,
     "metadata": {},
     "output_type": "execute_result"
    }
   ],
   "source": [
    "id(message)"
   ]
  },
  {
   "cell_type": "code",
   "execution_count": 5,
   "id": "334e83fa",
   "metadata": {},
   "outputs": [
    {
     "data": {
      "text/plain": [
       "'Hello World'"
      ]
     },
     "execution_count": 5,
     "metadata": {},
     "output_type": "execute_result"
    }
   ],
   "source": [
    "temp = message\n",
    "temp"
   ]
  },
  {
   "cell_type": "code",
   "execution_count": null,
   "id": "14e629f9",
   "metadata": {},
   "outputs": [],
   "source": [
    "message[3:7]"
   ]
  },
  {
   "cell_type": "code",
   "execution_count": null,
   "id": "0c9abf99",
   "metadata": {},
   "outputs": [],
   "source": [
    "message[:7]"
   ]
  },
  {
   "cell_type": "code",
   "execution_count": 7,
   "id": "62b44570",
   "metadata": {},
   "outputs": [
    {
     "data": {
      "text/plain": [
       "'orld'"
      ]
     },
     "execution_count": 7,
     "metadata": {},
     "output_type": "execute_result"
    }
   ],
   "source": [
    "message[7:]"
   ]
  },
  {
   "cell_type": "code",
   "execution_count": 8,
   "id": "ee09f20f",
   "metadata": {},
   "outputs": [
    {
     "data": {
      "text/plain": [
       "'Wor'"
      ]
     },
     "execution_count": 8,
     "metadata": {},
     "output_type": "execute_result"
    }
   ],
   "source": [
    "message[-5:-2]"
   ]
  },
  {
   "cell_type": "code",
   "execution_count": 9,
   "id": "bd5f34fe",
   "metadata": {},
   "outputs": [
    {
     "data": {
      "text/plain": [
       "'bd'"
      ]
     },
     "execution_count": 9,
     "metadata": {},
     "output_type": "execute_result"
    }
   ],
   "source": [
    "max('AZ','bd','AM')"
   ]
  },
  {
   "cell_type": "code",
   "execution_count": 10,
   "id": "50ce1237",
   "metadata": {},
   "outputs": [
    {
     "data": {
      "text/plain": [
       "'AM'"
      ]
     },
     "execution_count": 10,
     "metadata": {},
     "output_type": "execute_result"
    }
   ],
   "source": [
    "min('AZ','bd','AM')"
   ]
  },
  {
   "cell_type": "code",
   "execution_count": 11,
   "id": "4c77f614",
   "metadata": {},
   "outputs": [
    {
     "data": {
      "text/plain": [
       "False"
      ]
     },
     "execution_count": 11,
     "metadata": {},
     "output_type": "execute_result"
    }
   ],
   "source": [
    "'h' in message"
   ]
  },
  {
   "cell_type": "code",
   "execution_count": 12,
   "id": "18fd21d2",
   "metadata": {},
   "outputs": [
    {
     "data": {
      "text/plain": [
       "True"
      ]
     },
     "execution_count": 12,
     "metadata": {},
     "output_type": "execute_result"
    }
   ],
   "source": [
    "'H' in message"
   ]
  },
  {
   "cell_type": "code",
   "execution_count": 13,
   "id": "c7d02b2e",
   "metadata": {},
   "outputs": [
    {
     "data": {
      "text/plain": [
       "1"
      ]
     },
     "execution_count": 13,
     "metadata": {},
     "output_type": "execute_result"
    }
   ],
   "source": [
    "message.count('H')"
   ]
  },
  {
   "cell_type": "code",
   "execution_count": 14,
   "id": "35879ee1",
   "metadata": {},
   "outputs": [
    {
     "data": {
      "text/plain": [
       "4"
      ]
     },
     "execution_count": 14,
     "metadata": {},
     "output_type": "execute_result"
    }
   ],
   "source": [
    "Color = 'red,green,yellow'\n",
    "Color.find('green')"
   ]
  },
  {
   "cell_type": "code",
   "execution_count": 15,
   "id": "9e2221a8",
   "metadata": {},
   "outputs": [
    {
     "data": {
      "text/plain": [
       "4"
      ]
     },
     "execution_count": 15,
     "metadata": {},
     "output_type": "execute_result"
    }
   ],
   "source": [
    "Color.rfind('green')"
   ]
  },
  {
   "cell_type": "code",
   "execution_count": 16,
   "id": "4b0b8798",
   "metadata": {},
   "outputs": [],
   "source": [
    "messs = 'amigos'"
   ]
  },
  {
   "cell_type": "code",
   "execution_count": 17,
   "id": "a4154651",
   "metadata": {},
   "outputs": [
    {
     "data": {
      "text/plain": [
       "'Amigos'"
      ]
     },
     "execution_count": 17,
     "metadata": {},
     "output_type": "execute_result"
    }
   ],
   "source": [
    "messs.capitalize()"
   ]
  },
  {
   "cell_type": "code",
   "execution_count": 18,
   "id": "33851991",
   "metadata": {},
   "outputs": [
    {
     "data": {
      "text/plain": [
       "'hello world'"
      ]
     },
     "execution_count": 18,
     "metadata": {},
     "output_type": "execute_result"
    }
   ],
   "source": [
    "message.lower()"
   ]
  },
  {
   "cell_type": "code",
   "execution_count": 19,
   "id": "a13709cc",
   "metadata": {},
   "outputs": [
    {
     "data": {
      "text/plain": [
       "'HELLO WORLD'"
      ]
     },
     "execution_count": 19,
     "metadata": {},
     "output_type": "execute_result"
    }
   ],
   "source": [
    "message.upper()"
   ]
  },
  {
   "cell_type": "code",
   "execution_count": 20,
   "id": "79b14c5f",
   "metadata": {},
   "outputs": [
    {
     "data": {
      "text/plain": [
       "'hELLO wORLD'"
      ]
     },
     "execution_count": 20,
     "metadata": {},
     "output_type": "execute_result"
    }
   ],
   "source": [
    "message.swapcase()"
   ]
  },
  {
   "cell_type": "code",
   "execution_count": 21,
   "id": "7e9aa527",
   "metadata": {},
   "outputs": [
    {
     "data": {
      "text/plain": [
       "'Hello World'"
      ]
     },
     "execution_count": 21,
     "metadata": {},
     "output_type": "execute_result"
    }
   ],
   "source": [
    "message.title()"
   ]
  },
  {
   "cell_type": "code",
   "execution_count": 22,
   "id": "3464770b",
   "metadata": {},
   "outputs": [
    {
     "data": {
      "text/plain": [
       "'Mello World'"
      ]
     },
     "execution_count": 22,
     "metadata": {},
     "output_type": "execute_result"
    }
   ],
   "source": [
    "message.replace('He','Me')"
   ]
  },
  {
   "cell_type": "code",
   "execution_count": 23,
   "id": "8351d2ea",
   "metadata": {},
   "outputs": [
    {
     "data": {
      "text/plain": [
       "True"
      ]
     },
     "execution_count": 23,
     "metadata": {},
     "output_type": "execute_result"
    }
   ],
   "source": [
    "message.startswith('Hello')"
   ]
  },
  {
   "cell_type": "code",
   "execution_count": 24,
   "id": "7dbed51c",
   "metadata": {},
   "outputs": [],
   "source": [
    "str = '   hello   '"
   ]
  },
  {
   "cell_type": "code",
   "execution_count": 25,
   "id": "73db5477",
   "metadata": {},
   "outputs": [
    {
     "data": {
      "text/plain": [
       "'hello'"
      ]
     },
     "execution_count": 25,
     "metadata": {},
     "output_type": "execute_result"
    }
   ],
   "source": [
    "str.strip()"
   ]
  },
  {
   "cell_type": "code",
   "execution_count": 26,
   "id": "dff182b5",
   "metadata": {},
   "outputs": [
    {
     "data": {
      "text/plain": [
       "'   hello'"
      ]
     },
     "execution_count": 26,
     "metadata": {},
     "output_type": "execute_result"
    }
   ],
   "source": [
    "str.rstrip()"
   ]
  },
  {
   "cell_type": "code",
   "execution_count": 27,
   "id": "be9c302b",
   "metadata": {},
   "outputs": [
    {
     "data": {
      "text/plain": [
       "'hello   '"
      ]
     },
     "execution_count": 27,
     "metadata": {},
     "output_type": "execute_result"
    }
   ],
   "source": [
    "str.lstrip()"
   ]
  },
  {
   "cell_type": "code",
   "execution_count": 28,
   "id": "b249d730",
   "metadata": {},
   "outputs": [
    {
     "data": {
      "text/plain": [
       "['red', 'green', 'yellow']"
      ]
     },
     "execution_count": 28,
     "metadata": {},
     "output_type": "execute_result"
    }
   ],
   "source": [
    "Color.split(',')"
   ]
  },
  {
   "cell_type": "code",
   "execution_count": 29,
   "id": "709facfb",
   "metadata": {},
   "outputs": [],
   "source": [
    "mess = 'hello, world'"
   ]
  },
  {
   "cell_type": "code",
   "execution_count": 30,
   "id": "120ef019",
   "metadata": {},
   "outputs": [
    {
     "data": {
      "text/plain": [
       "('hello', ',', ' world')"
      ]
     },
     "execution_count": 30,
     "metadata": {},
     "output_type": "execute_result"
    }
   ],
   "source": [
    "mess.partition(',')"
   ]
  },
  {
   "cell_type": "code",
   "execution_count": 31,
   "id": "675386b2",
   "metadata": {},
   "outputs": [
    {
     "data": {
      "text/plain": [
       "False"
      ]
     },
     "execution_count": 31,
     "metadata": {},
     "output_type": "execute_result"
    }
   ],
   "source": [
    "message.isspace()"
   ]
  },
  {
   "cell_type": "code",
   "execution_count": 32,
   "id": "74eb6f96",
   "metadata": {},
   "outputs": [
    {
     "data": {
      "text/plain": [
       "False"
      ]
     },
     "execution_count": 32,
     "metadata": {},
     "output_type": "execute_result"
    }
   ],
   "source": [
    "message.isdigit()"
   ]
  },
  {
   "cell_type": "code",
   "execution_count": 33,
   "id": "18420736",
   "metadata": {},
   "outputs": [
    {
     "data": {
      "text/plain": [
       "False"
      ]
     },
     "execution_count": 33,
     "metadata": {},
     "output_type": "execute_result"
    }
   ],
   "source": [
    "message.isalpha()"
   ]
  },
  {
   "cell_type": "code",
   "execution_count": 34,
   "id": "905f44a3",
   "metadata": {},
   "outputs": [
    {
     "data": {
      "text/plain": [
       "True"
      ]
     },
     "execution_count": 34,
     "metadata": {},
     "output_type": "execute_result"
    }
   ],
   "source": [
    "str1 = '374'\n",
    "str1.isdigit()"
   ]
  },
  {
   "cell_type": "code",
   "execution_count": 35,
   "id": "6a009843",
   "metadata": {},
   "outputs": [
    {
     "data": {
      "text/plain": [
       "True"
      ]
     },
     "execution_count": 35,
     "metadata": {},
     "output_type": "execute_result"
    }
   ],
   "source": [
    "str2 ='deu298'\n",
    "str2.isalnum()"
   ]
  },
  {
   "cell_type": "code",
   "execution_count": 36,
   "id": "84c51250",
   "metadata": {},
   "outputs": [
    {
     "data": {
      "text/plain": [
       "b'Hello World'"
      ]
     },
     "execution_count": 36,
     "metadata": {},
     "output_type": "execute_result"
    }
   ],
   "source": [
    "enc = message.encode('utf-8')\n",
    "enc"
   ]
  },
  {
   "cell_type": "code",
   "execution_count": 37,
   "id": "82b9e6b7",
   "metadata": {},
   "outputs": [
    {
     "data": {
      "text/plain": [
       "'Hello World'"
      ]
     },
     "execution_count": 37,
     "metadata": {},
     "output_type": "execute_result"
    }
   ],
   "source": [
    "enc.decode()"
   ]
  },
  {
   "cell_type": "code",
   "execution_count": 38,
   "id": "20d4f377",
   "metadata": {},
   "outputs": [
    {
     "data": {
      "text/plain": [
       "'H-e-l-l-o- -W-o-r-l-d'"
      ]
     },
     "execution_count": 38,
     "metadata": {},
     "output_type": "execute_result"
    }
   ],
   "source": [
    "'-'.join(message)"
   ]
  },
  {
   "cell_type": "markdown",
   "id": "1fcba2be",
   "metadata": {},
   "source": [
    "### Program to return to no. of matching characters"
   ]
  },
  {
   "cell_type": "code",
   "execution_count": 51,
   "id": "9a91b892",
   "metadata": {},
   "outputs": [
    {
     "name": "stdout",
     "output_type": "stream",
     "text": [
      "Enter the first string: abcdef\n",
      "Enter the second string: dddefghiA\n"
     ]
    },
    {
     "data": {
      "text/plain": [
       "['A', 'D', 'E', 'F']"
      ]
     },
     "execution_count": 51,
     "metadata": {},
     "output_type": "execute_result"
    }
   ],
   "source": [
    "strr1 = input(\"Enter the first string: \")\n",
    "strr2 = input(\"Enter the second string: \")\n",
    "strr1 = strr1.upper()\n",
    "strr2 = strr2.upper()\n",
    "list1 = []\n",
    "for i in range(len(strr1)):\n",
    "    if strr1[i] in strr2:\n",
    "        if strr1[i] not in list1:\n",
    "                list1.append(strr1[i])\n",
    "list1"
   ]
  },
  {
   "cell_type": "code",
   "execution_count": null,
   "id": "ced60a51",
   "metadata": {},
   "outputs": [],
   "source": []
  },
  {
   "cell_type": "code",
   "execution_count": null,
   "id": "9f8793db",
   "metadata": {},
   "outputs": [],
   "source": []
  },
  {
   "cell_type": "markdown",
   "id": "1ac0afcb",
   "metadata": {},
   "source": [
    "### List Functions"
   ]
  },
  {
   "cell_type": "code",
   "execution_count": 1,
   "id": "3c5f8331",
   "metadata": {},
   "outputs": [],
   "source": [
    "subjects = ['Hindi', 'English', 'Math', 'Science']"
   ]
  },
  {
   "cell_type": "code",
   "execution_count": 2,
   "id": "42737f0a",
   "metadata": {},
   "outputs": [
    {
     "data": {
      "text/plain": [
       "166110461440"
      ]
     },
     "execution_count": 2,
     "metadata": {},
     "output_type": "execute_result"
    }
   ],
   "source": [
    "id(subjects)"
   ]
  },
  {
   "cell_type": "code",
   "execution_count": 3,
   "id": "6aa1af77",
   "metadata": {},
   "outputs": [
    {
     "data": {
      "text/plain": [
       "'Science'"
      ]
     },
     "execution_count": 3,
     "metadata": {},
     "output_type": "execute_result"
    }
   ],
   "source": [
    "subjects[3] "
   ]
  },
  {
   "cell_type": "code",
   "execution_count": 4,
   "id": "bca45753",
   "metadata": {},
   "outputs": [
    {
     "data": {
      "text/plain": [
       "'Math'"
      ]
     },
     "execution_count": 4,
     "metadata": {},
     "output_type": "execute_result"
    }
   ],
   "source": [
    "subjects[-2]"
   ]
  },
  {
   "cell_type": "code",
   "execution_count": 5,
   "id": "eac0b3e1",
   "metadata": {},
   "outputs": [],
   "source": [
    "subjects[0]='Sanskrit'"
   ]
  },
  {
   "cell_type": "code",
   "execution_count": 6,
   "id": "ea77f127",
   "metadata": {},
   "outputs": [
    {
     "data": {
      "text/plain": [
       "['Sanskrit', 'English', 'Math', 'Science']"
      ]
     },
     "execution_count": 6,
     "metadata": {},
     "output_type": "execute_result"
    }
   ],
   "source": [
    "subjects"
   ]
  },
  {
   "cell_type": "code",
   "execution_count": 7,
   "id": "07663c4d",
   "metadata": {},
   "outputs": [
    {
     "data": {
      "text/plain": [
       "102"
      ]
     },
     "execution_count": 7,
     "metadata": {},
     "output_type": "execute_result"
    }
   ],
   "source": [
    "subjectcodes = [['Hindi', 101], ['English', 102], ['Math', 103], ['Science', 104]]\n",
    "subjectcodes[1][1]"
   ]
  },
  {
   "cell_type": "code",
   "execution_count": 8,
   "id": "9a11d2c5",
   "metadata": {},
   "outputs": [
    {
     "name": "stdout",
     "output_type": "stream",
     "text": [
      "Enter student details: 11\n"
     ]
    },
    {
     "data": {
      "text/plain": [
       "11"
      ]
     },
     "execution_count": 8,
     "metadata": {},
     "output_type": "execute_result"
    }
   ],
   "source": [
    "details = eval(input(\"Enter student details: \"))\n",
    "details"
   ]
  },
  {
   "cell_type": "code",
   "execution_count": 9,
   "id": "c4ce32ce",
   "metadata": {},
   "outputs": [
    {
     "data": {
      "text/plain": [
       "['a', 'e', 'i', 'o', 'u']"
      ]
     },
     "execution_count": 9,
     "metadata": {},
     "output_type": "execute_result"
    }
   ],
   "source": [
    "vowels = 'aeiou'\n",
    "vowels = list(vowels)\n",
    "vowels"
   ]
  },
  {
   "cell_type": "code",
   "execution_count": 10,
   "id": "e38120a4",
   "metadata": {},
   "outputs": [],
   "source": [
    "modify_sub = subjects + ['sanskrit']"
   ]
  },
  {
   "cell_type": "code",
   "execution_count": 11,
   "id": "4cba5d24",
   "metadata": {},
   "outputs": [
    {
     "data": {
      "text/plain": [
       "['Sanskrit', 'English', 'Math', 'Science', 'sanskrit']"
      ]
     },
     "execution_count": 11,
     "metadata": {},
     "output_type": "execute_result"
    }
   ],
   "source": [
    "modify_sub"
   ]
  },
  {
   "cell_type": "code",
   "execution_count": 12,
   "id": "a1351494",
   "metadata": {},
   "outputs": [
    {
     "data": {
      "text/plain": [
       "['Sanskrit', 'Math']"
      ]
     },
     "execution_count": 12,
     "metadata": {},
     "output_type": "execute_result"
    }
   ],
   "source": [
    "modify_sub[0:4:2]"
   ]
  },
  {
   "cell_type": "code",
   "execution_count": 13,
   "id": "69d8b972",
   "metadata": {},
   "outputs": [
    {
     "data": {
      "text/plain": [
       "['Sanskrit', 'English', 'Math', 'Science', 'sanskrit', 'Computer Science']"
      ]
     },
     "execution_count": 13,
     "metadata": {},
     "output_type": "execute_result"
    }
   ],
   "source": [
    "modify_sub.append('Computer Science')\n",
    "modify_sub"
   ]
  },
  {
   "cell_type": "code",
   "execution_count": 14,
   "id": "500d83e6",
   "metadata": {},
   "outputs": [
    {
     "data": {
      "text/plain": [
       "1"
      ]
     },
     "execution_count": 14,
     "metadata": {},
     "output_type": "execute_result"
    }
   ],
   "source": [
    "modify_sub.count('English')"
   ]
  },
  {
   "cell_type": "code",
   "execution_count": 15,
   "id": "c9b3a9c5",
   "metadata": {},
   "outputs": [
    {
     "data": {
      "text/plain": [
       "['Sanskrit', 'Math', 'Science', 'sanskrit', 'Computer Science']"
      ]
     },
     "execution_count": 15,
     "metadata": {},
     "output_type": "execute_result"
    }
   ],
   "source": [
    "modify_sub.remove('English')\n",
    "modify_sub"
   ]
  },
  {
   "cell_type": "code",
   "execution_count": 16,
   "id": "c23c5b59",
   "metadata": {},
   "outputs": [
    {
     "data": {
      "text/plain": [
       "['Sanskrit', 'English', 'Math', 'Science', 'alfa1', 'alfa2', 'alfa3']"
      ]
     },
     "execution_count": 16,
     "metadata": {},
     "output_type": "execute_result"
    }
   ],
   "source": [
    "subjects.extend(['alfa1', 'alfa2', 'alfa3'])\n",
    "subjects"
   ]
  },
  {
   "cell_type": "code",
   "execution_count": 17,
   "id": "91eed7b2",
   "metadata": {},
   "outputs": [
    {
     "data": {
      "text/plain": [
       "27"
      ]
     },
     "execution_count": 17,
     "metadata": {},
     "output_type": "execute_result"
    }
   ],
   "source": [
    "cube = lambda x: x**3\n",
    "cube(3)"
   ]
  },
  {
   "cell_type": "code",
   "execution_count": 18,
   "id": "b9ae7190",
   "metadata": {},
   "outputs": [
    {
     "data": {
      "text/plain": [
       "[1, 8, 27, 64, 125]"
      ]
     },
     "execution_count": 18,
     "metadata": {},
     "output_type": "execute_result"
    }
   ],
   "source": [
    "num = [1,2,3,4,5]\n",
    "cube_num = list(map(cube, num))\n",
    "cube_num\n"
   ]
  },
  {
   "cell_type": "code",
   "execution_count": 19,
   "id": "6cba260a",
   "metadata": {},
   "outputs": [
    {
     "data": {
      "text/plain": [
       "4"
      ]
     },
     "execution_count": 19,
     "metadata": {},
     "output_type": "execute_result"
    }
   ],
   "source": [
    "subjects.index('alfa1')"
   ]
  },
  {
   "cell_type": "code",
   "execution_count": 20,
   "id": "10d376e4",
   "metadata": {},
   "outputs": [
    {
     "data": {
      "text/plain": [
       "['Sanskrit',\n",
       " 'English',\n",
       " 'Math',\n",
       " 'Science',\n",
       " 'alfa1',\n",
       " 'alfa2',\n",
       " 'alfa3',\n",
       " ['raj', 'radha']]"
      ]
     },
     "execution_count": 20,
     "metadata": {},
     "output_type": "execute_result"
    }
   ],
   "source": [
    "subjects.append(['raj','radha'])\n",
    "subjects"
   ]
  },
  {
   "cell_type": "code",
   "execution_count": 21,
   "id": "720c2155",
   "metadata": {},
   "outputs": [
    {
     "data": {
      "text/plain": [
       "['Sanskrit',\n",
       " 'English',\n",
       " 'Math',\n",
       " 'Science',\n",
       " 'alfa1',\n",
       " 'alfa2',\n",
       " 'alfa3',\n",
       " ['raj', 'radha']]"
      ]
     },
     "execution_count": 21,
     "metadata": {},
     "output_type": "execute_result"
    }
   ],
   "source": [
    "import copy\n",
    "sub_copy = copy.copy(subjects)\n",
    "sub_copy"
   ]
  },
  {
   "cell_type": "code",
   "execution_count": 22,
   "id": "37efec05",
   "metadata": {},
   "outputs": [],
   "source": [
    "sub_copy[7][1]='shyam'"
   ]
  },
  {
   "cell_type": "code",
   "execution_count": 23,
   "id": "298c63a8",
   "metadata": {},
   "outputs": [
    {
     "data": {
      "text/plain": [
       "['Sanskrit',\n",
       " 'English',\n",
       " 'Math',\n",
       " 'Science',\n",
       " 'alfa1',\n",
       " 'alfa2',\n",
       " 'alfa3',\n",
       " ['raj', 'shyam']]"
      ]
     },
     "execution_count": 23,
     "metadata": {},
     "output_type": "execute_result"
    }
   ],
   "source": [
    "sub_copy"
   ]
  },
  {
   "cell_type": "code",
   "execution_count": 24,
   "id": "13377b8b",
   "metadata": {},
   "outputs": [
    {
     "data": {
      "text/plain": [
       "['Sanskrit',\n",
       " 'English',\n",
       " 'Math',\n",
       " 'Science',\n",
       " 'alfa1',\n",
       " 'alfa2',\n",
       " 'alfa3',\n",
       " ['raj', 'shyam']]"
      ]
     },
     "execution_count": 24,
     "metadata": {},
     "output_type": "execute_result"
    }
   ],
   "source": [
    "subjects"
   ]
  },
  {
   "cell_type": "code",
   "execution_count": 25,
   "id": "e8808521",
   "metadata": {},
   "outputs": [
    {
     "data": {
      "text/plain": [
       "['Sanskrit',\n",
       " 'English',\n",
       " 'Math',\n",
       " 'Science',\n",
       " 'alfa1',\n",
       " 'alfa2',\n",
       " 'alfa3',\n",
       " ['raj', 'rajendra']]"
      ]
     },
     "execution_count": 25,
     "metadata": {},
     "output_type": "execute_result"
    }
   ],
   "source": [
    "deep_copy = copy.deepcopy(subjects)\n",
    "deep_copy[7][1]='rajendra'\n",
    "deep_copy"
   ]
  },
  {
   "cell_type": "code",
   "execution_count": 26,
   "id": "b2b376b3",
   "metadata": {},
   "outputs": [
    {
     "data": {
      "text/plain": [
       "['Sanskrit',\n",
       " 'English',\n",
       " 'Math',\n",
       " 'Science',\n",
       " 'alfa1',\n",
       " 'alfa2',\n",
       " 'alfa3',\n",
       " ['raj', 'shyam']]"
      ]
     },
     "execution_count": 26,
     "metadata": {},
     "output_type": "execute_result"
    }
   ],
   "source": [
    "subjects"
   ]
  },
  {
   "cell_type": "code",
   "execution_count": 27,
   "id": "e1ee2cca",
   "metadata": {},
   "outputs": [
    {
     "name": "stdout",
     "output_type": "stream",
     "text": [
      "[['raj', 'shyam'], 'alfa3', 'alfa2', 'alfa1', 'Science', 'Math', 'English', 'Sanskrit']\n"
     ]
    }
   ],
   "source": [
    "subjects.reverse()\n",
    "print(subjects)\n"
   ]
  },
  {
   "cell_type": "markdown",
   "id": "d04d4977",
   "metadata": {},
   "source": [
    "### Program related to student records"
   ]
  },
  {
   "cell_type": "code",
   "execution_count": 28,
   "id": "d09acac2",
   "metadata": {},
   "outputs": [
    {
     "data": {
      "text/plain": [
       "[[101, 'Raj', ['Hindi', 'English', 'Math']],\n",
       " [102, 'Divyam', ['Computer', 'spanish']],\n",
       " [103, 'Anam', ['Urdu', 'Arabic']],\n",
       " [104, 'Ananya', ['Bihari', 'Maths', 'Sociology']],\n",
       " [105, 'Dhriti', ['Physics', 'AI', 'Chemistry']]]"
      ]
     },
     "execution_count": 28,
     "metadata": {},
     "output_type": "execute_result"
    }
   ],
   "source": [
    "student_record = [[101, 'Raj', ['Hindi', 'English', 'Math']],\n",
    "                  [102, 'Divyam', ['Computer', 'spanish']],\n",
    "                  [103, 'Anam', ['Urdu', 'Arabic']],\n",
    "                  [104, 'Ananya', ['Bihari', 'Maths', 'Sociology']],\n",
    "                  [105, 'Dhriti', ['Physics', 'AI', 'Chemistry']]]\n",
    "student_record"
   ]
  },
  {
   "cell_type": "code",
   "execution_count": 29,
   "id": "b07270d4",
   "metadata": {},
   "outputs": [],
   "source": [
    "def search_rollno(student_record, rollno):\n",
    "    for i in range(len(student_record)):\n",
    "        if student_record[i][0]==rollno:\n",
    "            print(student_record[i])"
   ]
  },
  {
   "cell_type": "code",
   "execution_count": 30,
   "id": "6fced16d",
   "metadata": {},
   "outputs": [
    {
     "name": "stdout",
     "output_type": "stream",
     "text": [
      "[102, 'Divyam', ['Computer', 'spanish']]\n"
     ]
    }
   ],
   "source": [
    "search_rollno(student_record, 102)"
   ]
  },
  {
   "cell_type": "code",
   "execution_count": 31,
   "id": "3c5c2ff3",
   "metadata": {},
   "outputs": [],
   "source": [
    "def search_name(student_record, name):\n",
    "    for i in range(len(student_record)):\n",
    "        if student_record[i][1]==name:\n",
    "            print(student_record[i])"
   ]
  },
  {
   "cell_type": "code",
   "execution_count": 32,
   "id": "a5d33fef",
   "metadata": {},
   "outputs": [
    {
     "name": "stdout",
     "output_type": "stream",
     "text": [
      "[101, 'Raj', ['Hindi', 'English', 'Math']]\n"
     ]
    }
   ],
   "source": [
    "search_name(student_record, 'Raj')"
   ]
  },
  {
   "cell_type": "code",
   "execution_count": 35,
   "id": "29024985",
   "metadata": {},
   "outputs": [],
   "source": [
    "def delete_rollno(student_record, rollno):\n",
    "    for i in range(len(student_record)):\n",
    "        if student_record[i][0]==rollno:\n",
    "            student_record.remove(student_record[i])"
   ]
  },
  {
   "cell_type": "code",
   "execution_count": 36,
   "id": "fa1dfce6",
   "metadata": {},
   "outputs": [
    {
     "data": {
      "text/plain": [
       "[[101, 'Raj', ['Hindi', 'English', 'Math']],\n",
       " [102, 'Divyam', ['Computer', 'spanish']],\n",
       " [103, 'Anam', ['Urdu', 'Arabic']],\n",
       " [104, 'Ananya', ['Bihari', 'Maths', 'Sociology']]]"
      ]
     },
     "execution_count": 36,
     "metadata": {},
     "output_type": "execute_result"
    }
   ],
   "source": [
    "delete_rollno(student_record, 105)\n",
    "student_record"
   ]
  },
  {
   "cell_type": "code",
   "execution_count": null,
   "id": "844681f6",
   "metadata": {},
   "outputs": [],
   "source": [
    "def insert_record(student_record, list):\n",
    "    student_record.append(list)"
   ]
  },
  {
   "cell_type": "code",
   "execution_count": null,
   "id": "21d6d1b7",
   "metadata": {},
   "outputs": [],
   "source": [
    "insert_record(student_record, [106, 'Nilesh', ['Data Structure', 'Python']])"
   ]
  },
  {
   "cell_type": "code",
   "execution_count": null,
   "id": "bbc8d9c8",
   "metadata": {},
   "outputs": [],
   "source": [
    "student_record"
   ]
  },
  {
   "cell_type": "code",
   "execution_count": null,
   "id": "4337dc1b",
   "metadata": {},
   "outputs": [],
   "source": [
    "def update_subject(student_record, rollno, subjecttoupdate, updatedsubject):\n",
    "    for i in range(len(student_record)):\n",
    "        if student_record[i][0]==rollno:\n",
    "            al = student_record[i][2].index(subjecttoupdate)\n",
    "            student_record[i][2][al] = updatedsubject"
   ]
  },
  {
   "cell_type": "code",
   "execution_count": null,
   "id": "e59643b8",
   "metadata": {},
   "outputs": [],
   "source": [
    "update_subject(student_record, 104, 'Maths', 'Hindi')"
   ]
  },
  {
   "cell_type": "code",
   "execution_count": null,
   "id": "7647a061",
   "metadata": {},
   "outputs": [],
   "source": [
    "student_record"
   ]
  },
  {
   "cell_type": "code",
   "execution_count": 53,
   "id": "4195214c",
   "metadata": {},
   "outputs": [],
   "source": [
    "def fetch_nameroll(student_record):\n",
    "    for i in range(len(student_record)):\n",
    "        print(student_record[i][0]  ,student_record[i][1])"
   ]
  },
  {
   "cell_type": "code",
   "execution_count": 54,
   "id": "a46b4284",
   "metadata": {},
   "outputs": [
    {
     "name": "stdout",
     "output_type": "stream",
     "text": [
      "101 Raj\n",
      "102 Divyam\n",
      "103 Anam\n",
      "104 Ananya\n"
     ]
    }
   ],
   "source": [
    "fetch_nameroll(student_record)"
   ]
  },
  {
   "cell_type": "markdown",
   "id": "bc6772cf",
   "metadata": {},
   "source": [
    "### Set Functions"
   ]
  },
  {
   "cell_type": "code",
   "execution_count": 9,
   "id": "6f0e2db7",
   "metadata": {},
   "outputs": [
    {
     "data": {
      "text/plain": [
       "{1, 2, 3, 4}"
      ]
     },
     "execution_count": 9,
     "metadata": {},
     "output_type": "execute_result"
    }
   ],
   "source": [
    "set1 = {1,2,3,4}\n",
    "set1"
   ]
  },
  {
   "cell_type": "code",
   "execution_count": 10,
   "id": "98390ac6",
   "metadata": {},
   "outputs": [],
   "source": [
    "vowels= 'aeiou'\n",
    "set2 = set(vowels)"
   ]
  },
  {
   "cell_type": "code",
   "execution_count": 11,
   "id": "29fcfec0",
   "metadata": {},
   "outputs": [
    {
     "data": {
      "text/plain": [
       "{'a', 'e', 'i', 'o', 'u'}"
      ]
     },
     "execution_count": 11,
     "metadata": {},
     "output_type": "execute_result"
    }
   ],
   "source": [
    "set2"
   ]
  },
  {
   "cell_type": "code",
   "execution_count": 12,
   "id": "42db90e0",
   "metadata": {},
   "outputs": [
    {
     "name": "stdout",
     "output_type": "stream",
     "text": [
      "oiuae"
     ]
    }
   ],
   "source": [
    "for v in set2:\n",
    "    print(v, end ='')"
   ]
  },
  {
   "cell_type": "code",
   "execution_count": 15,
   "id": "f0f6de0c",
   "metadata": {},
   "outputs": [],
   "source": [
    "set1.add(7)"
   ]
  },
  {
   "cell_type": "code",
   "execution_count": 16,
   "id": "56799eeb",
   "metadata": {},
   "outputs": [
    {
     "data": {
      "text/plain": [
       "{1, 2, 3, 4, 7}"
      ]
     },
     "execution_count": 16,
     "metadata": {},
     "output_type": "execute_result"
    }
   ],
   "source": [
    "set1"
   ]
  },
  {
   "cell_type": "code",
   "execution_count": 17,
   "id": "c53dc992",
   "metadata": {},
   "outputs": [],
   "source": [
    "set1.remove(1)"
   ]
  },
  {
   "cell_type": "code",
   "execution_count": 18,
   "id": "d6e0c45c",
   "metadata": {},
   "outputs": [
    {
     "data": {
      "text/plain": [
       "{2, 3, 4, 7}"
      ]
     },
     "execution_count": 18,
     "metadata": {},
     "output_type": "execute_result"
    }
   ],
   "source": [
    "set1"
   ]
  },
  {
   "cell_type": "code",
   "execution_count": 19,
   "id": "debd4b22",
   "metadata": {},
   "outputs": [
    {
     "data": {
      "text/plain": [
       "{3, 4, 7}"
      ]
     },
     "execution_count": 19,
     "metadata": {},
     "output_type": "execute_result"
    }
   ],
   "source": [
    "set1.pop()\n",
    "set1"
   ]
  },
  {
   "cell_type": "code",
   "execution_count": 21,
   "id": "c9a4309f",
   "metadata": {},
   "outputs": [],
   "source": [
    "set1.clear()"
   ]
  },
  {
   "cell_type": "code",
   "execution_count": 22,
   "id": "1910e8d2",
   "metadata": {},
   "outputs": [
    {
     "data": {
      "text/plain": [
       "set()"
      ]
     },
     "execution_count": 22,
     "metadata": {},
     "output_type": "execute_result"
    }
   ],
   "source": [
    "set1"
   ]
  },
  {
   "cell_type": "code",
   "execution_count": 23,
   "id": "8cd554b8",
   "metadata": {},
   "outputs": [],
   "source": [
    "set3 = {2,8,6,4,1}\n",
    "set4 = {9,8,4,2,1}"
   ]
  },
  {
   "cell_type": "code",
   "execution_count": 24,
   "id": "c514e1d5",
   "metadata": {},
   "outputs": [
    {
     "data": {
      "text/plain": [
       "{1, 2, 4, 6, 8, 9}"
      ]
     },
     "execution_count": 24,
     "metadata": {},
     "output_type": "execute_result"
    }
   ],
   "source": [
    "set3.union(set4)"
   ]
  },
  {
   "cell_type": "code",
   "execution_count": 27,
   "id": "f07a9813",
   "metadata": {},
   "outputs": [
    {
     "data": {
      "text/plain": [
       "{1, 2, 4, 6, 8, 9}"
      ]
     },
     "execution_count": 27,
     "metadata": {},
     "output_type": "execute_result"
    }
   ],
   "source": [
    "set3|set4"
   ]
  },
  {
   "cell_type": "code",
   "execution_count": 25,
   "id": "9311d2f7",
   "metadata": {},
   "outputs": [
    {
     "data": {
      "text/plain": [
       "{1, 2, 4, 8}"
      ]
     },
     "execution_count": 25,
     "metadata": {},
     "output_type": "execute_result"
    }
   ],
   "source": [
    "set3.intersection(set4)"
   ]
  },
  {
   "cell_type": "code",
   "execution_count": 26,
   "id": "9717cf15",
   "metadata": {},
   "outputs": [
    {
     "data": {
      "text/plain": [
       "{6}"
      ]
     },
     "execution_count": 26,
     "metadata": {},
     "output_type": "execute_result"
    }
   ],
   "source": [
    "set3.difference(set4)"
   ]
  },
  {
   "cell_type": "code",
   "execution_count": 28,
   "id": "9b395162",
   "metadata": {},
   "outputs": [
    {
     "data": {
      "text/plain": [
       "{6, 9}"
      ]
     },
     "execution_count": 28,
     "metadata": {},
     "output_type": "execute_result"
    }
   ],
   "source": [
    "set3.symmetric_difference(set4)"
   ]
  },
  {
   "cell_type": "code",
   "execution_count": 29,
   "id": "88521407",
   "metadata": {},
   "outputs": [],
   "source": [
    "set5 ={10,33,11,77,55}"
   ]
  },
  {
   "cell_type": "code",
   "execution_count": 30,
   "id": "84865ab2",
   "metadata": {},
   "outputs": [
    {
     "data": {
      "text/plain": [
       "{1, 2, 4, 6, 8, 9, 10, 11, 33, 55, 77}"
      ]
     },
     "execution_count": 30,
     "metadata": {},
     "output_type": "execute_result"
    }
   ],
   "source": [
    "set3.union(set4,set5)"
   ]
  },
  {
   "cell_type": "code",
   "execution_count": 31,
   "id": "01d9a513",
   "metadata": {},
   "outputs": [
    {
     "data": {
      "text/plain": [
       "{10, 11, 33, 55, 77}"
      ]
     },
     "execution_count": 31,
     "metadata": {},
     "output_type": "execute_result"
    }
   ],
   "source": [
    "set6 = set5.copy()\n",
    "set6"
   ]
  },
  {
   "cell_type": "code",
   "execution_count": 32,
   "id": "15a90bb1",
   "metadata": {},
   "outputs": [
    {
     "data": {
      "text/plain": [
       "True"
      ]
     },
     "execution_count": 32,
     "metadata": {},
     "output_type": "execute_result"
    }
   ],
   "source": [
    "set5>=set6"
   ]
  },
  {
   "cell_type": "code",
   "execution_count": 33,
   "id": "8a1b2fb3",
   "metadata": {},
   "outputs": [
    {
     "data": {
      "text/plain": [
       "False"
      ]
     },
     "execution_count": 33,
     "metadata": {},
     "output_type": "execute_result"
    }
   ],
   "source": [
    "set3<=set5"
   ]
  },
  {
   "cell_type": "code",
   "execution_count": 36,
   "id": "50c7c9f9",
   "metadata": {},
   "outputs": [],
   "source": [
    "list1 = set(list1)\n",
    "list2 = set(list2)"
   ]
  },
  {
   "cell_type": "code",
   "execution_count": 37,
   "id": "6587b624",
   "metadata": {},
   "outputs": [
    {
     "data": {
      "text/plain": [
       "{0, 1, 2, 4, 7, 11, 33}"
      ]
     },
     "execution_count": 37,
     "metadata": {},
     "output_type": "execute_result"
    }
   ],
   "source": [
    "list1.union(list2)"
   ]
  },
  {
   "cell_type": "code",
   "execution_count": 38,
   "id": "eeac75de",
   "metadata": {},
   "outputs": [],
   "source": [
    "list1 = list(list1)"
   ]
  },
  {
   "cell_type": "code",
   "execution_count": 39,
   "id": "5f4cb7bf",
   "metadata": {},
   "outputs": [
    {
     "data": {
      "text/plain": [
       "[0, 1, 2, 4, 7]"
      ]
     },
     "execution_count": 39,
     "metadata": {},
     "output_type": "execute_result"
    }
   ],
   "source": [
    "list1"
   ]
  },
  {
   "cell_type": "markdown",
   "id": "721981c9",
   "metadata": {},
   "source": [
    "### Tuple Functions"
   ]
  },
  {
   "cell_type": "code",
   "execution_count": 29,
   "id": "ae3148f0",
   "metadata": {},
   "outputs": [],
   "source": [
    "tup1 = (3,4,8,5,1,5)\n",
    "tup2 = (2,7,5,11,12)\n",
    "tup3 = (13,75,23,55)"
   ]
  },
  {
   "cell_type": "code",
   "execution_count": 30,
   "id": "9f75c30e",
   "metadata": {},
   "outputs": [
    {
     "data": {
      "text/plain": [
       "(2, 7, 5, 11, 12, 3)"
      ]
     },
     "execution_count": 30,
     "metadata": {},
     "output_type": "execute_result"
    }
   ],
   "source": [
    "tup2+(3,)"
   ]
  },
  {
   "cell_type": "code",
   "execution_count": 31,
   "id": "2def042c",
   "metadata": {},
   "outputs": [
    {
     "data": {
      "text/plain": [
       "6"
      ]
     },
     "execution_count": 31,
     "metadata": {},
     "output_type": "execute_result"
    }
   ],
   "source": [
    "len(tup1)"
   ]
  },
  {
   "cell_type": "code",
   "execution_count": 32,
   "id": "bbabb03b",
   "metadata": {},
   "outputs": [
    {
     "data": {
      "text/plain": [
       "(3, 4, 8, 5, 1, 5, 13, 75, 23, 55)"
      ]
     },
     "execution_count": 32,
     "metadata": {},
     "output_type": "execute_result"
    }
   ],
   "source": [
    "tup1 + tup3"
   ]
  },
  {
   "cell_type": "code",
   "execution_count": 33,
   "id": "9bc7e3d7",
   "metadata": {},
   "outputs": [
    {
     "data": {
      "text/plain": [
       "8"
      ]
     },
     "execution_count": 33,
     "metadata": {},
     "output_type": "execute_result"
    }
   ],
   "source": [
    "tup1[2]"
   ]
  },
  {
   "cell_type": "code",
   "execution_count": 34,
   "id": "3c97d34b",
   "metadata": {},
   "outputs": [
    {
     "data": {
      "text/plain": [
       "[('Divyam', 2), ('Aman', 3), ('Anam', 1), ('Ananya', 4)]"
      ]
     },
     "execution_count": 34,
     "metadata": {},
     "output_type": "execute_result"
    }
   ],
   "source": [
    "stu_name = (['Divyam', 'Aman', 'Anam', 'Ananya'])\n",
    "stu_roll = ([2,3,1,4])\n",
    "zipped = list(zip(stu_name,stu_roll))\n",
    "zipped"
   ]
  },
  {
   "cell_type": "code",
   "execution_count": 35,
   "id": "1767e4c7",
   "metadata": {},
   "outputs": [
    {
     "data": {
      "text/plain": [
       "(8, 5, 1, 5)"
      ]
     },
     "execution_count": 35,
     "metadata": {},
     "output_type": "execute_result"
    }
   ],
   "source": [
    "tup1[2:]"
   ]
  },
  {
   "cell_type": "code",
   "execution_count": 36,
   "id": "5ce8f986",
   "metadata": {},
   "outputs": [
    {
     "data": {
      "text/plain": [
       "8"
      ]
     },
     "execution_count": 36,
     "metadata": {},
     "output_type": "execute_result"
    }
   ],
   "source": [
    "max(tup1)"
   ]
  },
  {
   "cell_type": "code",
   "execution_count": 37,
   "id": "333efb42",
   "metadata": {},
   "outputs": [
    {
     "data": {
      "text/plain": [
       "1"
      ]
     },
     "execution_count": 37,
     "metadata": {},
     "output_type": "execute_result"
    }
   ],
   "source": [
    "min(tup1)"
   ]
  },
  {
   "cell_type": "code",
   "execution_count": 38,
   "id": "10223941",
   "metadata": {},
   "outputs": [
    {
     "data": {
      "text/plain": [
       "2"
      ]
     },
     "execution_count": 38,
     "metadata": {},
     "output_type": "execute_result"
    }
   ],
   "source": [
    "tup1.count(5)"
   ]
  },
  {
   "cell_type": "code",
   "execution_count": 41,
   "id": "4bf96977",
   "metadata": {},
   "outputs": [
    {
     "data": {
      "text/plain": [
       "4"
      ]
     },
     "execution_count": 41,
     "metadata": {},
     "output_type": "execute_result"
    }
   ],
   "source": [
    "tup1.index(1)"
   ]
  },
  {
   "cell_type": "markdown",
   "id": "990d7686",
   "metadata": {},
   "source": [
    "### Linear Regression using statistical method"
   ]
  },
  {
   "cell_type": "code",
   "execution_count": 6,
   "id": "65b126a2",
   "metadata": {},
   "outputs": [
    {
     "name": "stdout",
     "output_type": "stream",
     "text": [
      "Estimated coeff. \n",
      "b0 = 7.184802545342203\n",
      "b1 = 0.5578676018086272\n"
     ]
    },
    {
     "data": {
      "image/png": "[encoded data removed]",
      "text/plain": [
       "<Figure size 432x288 with 1 Axes>"
      ]
     },
     "metadata": {
      "needs_background": "light"
     },
     "output_type": "display_data"
    }
   ],
   "source": [
    "import numpy as np\n",
    "import matplotlib.pyplot as plt\n",
    "def main():\n",
    "    test_data_size = 50\n",
    "    train_x = []\n",
    "    train_y = []\n",
    "    \n",
    "    for n in range(test_data_size):\n",
    "        tx = n;\n",
    "        ty = n*0.5+5+1/np.random.rand()\n",
    "        train_x.append(tx)\n",
    "        train_y.append(ty)\n",
    "    x = np.array(train_x)\n",
    "    y = np.array(train_y)\n",
    "    b = est_coef(x,y)\n",
    "    print(\"Estimated coeff. \\nb0 = {}\\nb1 = {}\".format(b[0],b[1]))\n",
    "    plot_reg_line(x,y,b)\n",
    "    \n",
    "\n",
    "\n",
    "def est_coef(x,y):\n",
    "    n=np.size(x)\n",
    "    m_x,m_y= np.mean(x),np.mean(y)\n",
    "    SS_xy = np.sum(x*y)-n*m_x*m_y\n",
    "    SS_xx=np.sum(x*x)-n*m_x*m_x\n",
    "    b_1= SS_xy/SS_xx\n",
    "    b_0 = m_y-b_1*m_x\n",
    "    return(b_0,b_1)\n",
    "\n",
    "def plot_reg_line(x,y,b):\n",
    "    plt.scatter(x,y,color='m', marker = 'o',s=30)\n",
    "    y_pred = b[0]+b[1]*x\n",
    "    plt.plot(x,y_pred,color='g')\n",
    "    plt.xlabel('x')\n",
    "    plt.ylabel('y')\n",
    "    plt.show()\n",
    "\n",
    "\n",
    "if __name__==\"__main__\":\n",
    "    main()\n",
    "    \n",
    "        "
   ]
  },
  {
   "cell_type": "markdown",
   "id": "1095e668",
   "metadata": {},
   "source": [
    "### KNN implementation"
   ]
  },
  {
   "cell_type": "code",
   "execution_count": 1,
   "id": "4f066a56",
   "metadata": {},
   "outputs": [],
   "source": [
    "from sklearn.neighbors import KNeighborsClassifier"
   ]
  },
  {
   "cell_type": "code",
   "execution_count": 2,
   "id": "4af505dd",
   "metadata": {},
   "outputs": [],
   "source": [
    "from sklearn.model_selection import train_test_split"
   ]
  },
  {
   "cell_type": "code",
   "execution_count": 3,
   "id": "d2ba4b04",
   "metadata": {},
   "outputs": [],
   "source": [
    "from sklearn.datasets import load_iris"
   ]
  },
  {
   "cell_type": "code",
   "execution_count": 4,
   "id": "09dbeed9",
   "metadata": {},
   "outputs": [],
   "source": [
    "irisData = load_iris()"
   ]
  },
  {
   "cell_type": "code",
   "execution_count": 12,
   "id": "642258f8",
   "metadata": {},
   "outputs": [
    {
     "name": "stdout",
     "output_type": "stream",
     "text": [
      "1.0\n"
     ]
    }
   ],
   "source": [
    "X = irisData.data\n",
    "Y = irisData.target\n",
    "X_train, X_test, Y_train, Y_test = train_test_split(X,Y,test_size=0.3, random_state=42)\n",
    "knn=KNeighborsClassifier(n_neighbors=40)\n",
    "knn.fit(X_train,Y_train)\n",
    "print(knn.score(X_test,Y_test))"
   ]
  },
  {
   "cell_type": "markdown",
   "id": "d76ea83b",
   "metadata": {},
   "source": [
    "### Linear Regression using MSE"
   ]
  },
  {
   "cell_type": "code",
   "execution_count": 1,
   "id": "a65b8d1b",
   "metadata": {},
   "outputs": [
    {
     "name": "stdout",
     "output_type": "stream",
     "text": [
      "Coefficient\n",
      ":  [-9.85424717e-02  6.07841138e-02  5.91715401e-02  2.43955988e+00\n",
      " -2.14699650e+01  2.79581385e+00  3.57459778e-03 -1.51627218e+00\n",
      "  3.07541745e-01 -1.12800166e-02 -1.00546640e+00  6.45018446e-03\n",
      " -5.68834539e-01]\n"
     ]
    },
    {
     "name": "stderr",
     "output_type": "stream",
     "text": [
      "/Users/divyamsingh/Library/Python/3.9/lib/python/site-packages/sklearn/utils/deprecation.py:87: FutureWarning: Function load_boston is deprecated; `load_boston` is deprecated in 1.0 and will be removed in 1.2.\n",
      "\n",
      "    The Boston housing prices dataset has an ethical problem. You can refer to\n",
      "    the documentation of this function for further details.\n",
      "\n",
      "    The scikit-learn maintainers therefore strongly discourage the use of this\n",
      "    dataset unless the purpose of the code is to study and educate about\n",
      "    ethical issues in data science and machine learning.\n",
      "\n",
      "    In this special case, you can fetch the dataset from the original\n",
      "    source::\n",
      "\n",
      "        import pandas as pd\n",
      "        import numpy as np\n",
      "\n",
      "\n",
      "        data_url = \"http://lib.stat.cmu.edu/datasets/boston\"\n",
      "        raw_df = pd.read_csv(data_url, sep=\"\\s+\", skiprows=22, header=None)\n",
      "        data = np.hstack([raw_df.values[::2, :], raw_df.values[1::2, :2]])\n",
      "        target = raw_df.values[1::2, 2]\n",
      "\n",
      "    Alternative datasets include the California housing dataset (i.e.\n",
      "    :func:`~sklearn.datasets.fetch_california_housing`) and the Ames housing\n",
      "    dataset. You can load the datasets as follows::\n",
      "\n",
      "        from sklearn.datasets import fetch_california_housing\n",
      "        housing = fetch_california_housing()\n",
      "\n",
      "    for the California housing dataset and::\n",
      "\n",
      "        from sklearn.datasets import fetch_openml\n",
      "        housing = fetch_openml(name=\"house_prices\", as_frame=True)\n",
      "\n",
      "    for the Ames housing dataset.\n",
      "    \n",
      "  warnings.warn(msg, category=FutureWarning)\n"
     ]
    }
   ],
   "source": [
    "import matplotlib.pyplot as plt\n",
    "import numpy as np\n",
    "from sklearn.model_selection import train_test_split\n",
    "from sklearn import datasets, linear_model, metrics\n",
    "\n",
    "boston = datasets.load_boston(return_X_y=False)\n",
    "X = boston.data\n",
    "y = boston.target\n",
    "X_train, X_test, y_train, y_test = train_test_split(X,y, test_size=0.3, random_state = 1)\n",
    "reg = linear_model.LinearRegression()\n",
    "reg.fit(X_train, y_train)\n",
    "print(\"Coefficient\\n: \",reg.coef_)"
   ]
  },
  {
   "cell_type": "code",
   "execution_count": 2,
   "id": "004e4d00",
   "metadata": {},
   "outputs": [],
   "source": [
    "\n",
    "X = boston.data\n",
    "y = boston.target\n"
   ]
  },
  {
   "cell_type": "code",
   "execution_count": 3,
   "id": "674539c3",
   "metadata": {},
   "outputs": [
    {
     "name": "stdout",
     "output_type": "stream",
     "text": [
      "Coefficient\n",
      ":  [-9.85424717e-02  6.07841138e-02  5.91715401e-02  2.43955988e+00\n",
      " -2.14699650e+01  2.79581385e+00  3.57459778e-03 -1.51627218e+00\n",
      "  3.07541745e-01 -1.12800166e-02 -1.00546640e+00  6.45018446e-03\n",
      " -5.68834539e-01]\n"
     ]
    }
   ],
   "source": [
    "X_train, X_test, y_train, y_test = train_test_split(X,y, test_size=0.3, random_state = 1)\n",
    "reg = linear_model.LinearRegression()\n",
    "reg.fit(X_train, y_train)\n",
    "print(\"Coefficient\\n: \",reg.coef_)"
   ]
  },
  {
   "cell_type": "code",
   "execution_count": 4,
   "id": "e958ae76",
   "metadata": {},
   "outputs": [
    {
     "name": "stdout",
     "output_type": "stream",
     "text": [
      "Variance Score:0.7836295385076306\n"
     ]
    }
   ],
   "source": [
    "print(\"Variance Score:{}\".format(reg.score(X_test,y_test)))"
   ]
  },
  {
   "cell_type": "code",
   "execution_count": 5,
   "id": "f246e8d7",
   "metadata": {},
   "outputs": [
    {
     "data": {
      "image/png": "[encoded data removed]",
      "text/plain": [
       "<Figure size 640x480 with 1 Axes>"
      ]
     },
     "metadata": {},
     "output_type": "display_data"
    }
   ],
   "source": [
    "plt.style.use('fivethirtyeight')\n",
    "plt.scatter(reg.predict(X_train), reg.predict(X_train)-y_train, color='green', s=10, label = 'train data')\n",
    "plt.scatter(reg.predict(X_test), reg.predict(X_test)-y_test, color = 'blue', s = 10, label = ' test')\n",
    "plt.hlines(y=0, xmin =0, xmax=50, linewidth = 3)\n",
    "plt.legend(loc='upper right')\n",
    "plt.title(\"Residual error\")\n",
    "plt.show()"
   ]
  },
  {
   "cell_type": "markdown",
   "id": "2d73838c",
   "metadata": {},
   "source": [
    "### Implementation of KMeans"
   ]
  },
  {
   "cell_type": "code",
   "execution_count": 1,
   "id": "469cbc75",
   "metadata": {},
   "outputs": [
    {
     "data": {
      "image/png": "[encoded data removed]",
      "text/plain": [
       "<Figure size 640x480 with 1 Axes>"
      ]
     },
     "metadata": {},
     "output_type": "display_data"
    }
   ],
   "source": [
    "import matplotlib.pyplot as plt\n",
    "from sklearn.datasets import make_blobs\n",
    "from sklearn.cluster import KMeans\n",
    "\n",
    "X,Y = make_blobs(n_samples=150, n_features=2,centers=4, cluster_std=0.5, shuffle = True)\n",
    "\n",
    "km = KMeans(n_clusters=4, init='random', n_init =10, max_iter = 300, tol=1e-04, random_state=0)\n",
    "Y_km = km.fit_predict(X)\n",
    "\n",
    "plt.scatter(X[Y_km==0,0], X[Y_km ==0,1], s=50, c='lightyellow', marker = 's', edgecolor='black', label=\"cluster1\")\n",
    "plt.scatter(X[Y_km==1,0], X[Y_km ==1,1], s=50, c='orange', marker = 'o', edgecolor='black', label=\"cluster2\")\n",
    "plt.scatter(X[Y_km==2,0], X[Y_km ==2,1], s=50, c='lightblue', marker = 'v', edgecolor='black', label=\"cluster3\")\n",
    "plt.scatter(X[Y_km==3,0], X[Y_km ==3,1], s=50, c='red', marker = 'D', edgecolor='black', label=\"cluster4\")\n",
    "\n",
    "plt.scatter(km.cluster_centers_[:,0],km.cluster_centers_[:,1],s=250,marker='*', c='lightgreen', edgecolor='black', label='centroids')\n",
    "plt.legend(scatterpoints=1)\n",
    "plt.grid()\n",
    "plt.show()"
   ]
  },
  {
   "cell_type": "markdown",
   "id": "b3d222f3",
   "metadata": {},
   "source": [
    "### Implementation of KNN using for loop"
   ]
  },
  {
   "cell_type": "code",
   "execution_count": 2,
   "id": "8bb09e8d",
   "metadata": {},
   "outputs": [
    {
     "data": {
      "image/png": "[encoded data removed]",
      "text/plain": [
       "<Figure size 640x480 with 1 Axes>"
      ]
     },
     "metadata": {},
     "output_type": "display_data"
    }
   ],
   "source": [
    "from sklearn.neighbors import KNeighborsClassifier\n",
    "from sklearn.model_selection import train_test_split\n",
    "from sklearn.datasets import load_iris\n",
    "import numpy as np\n",
    "import matplotlib.pyplot as plt\n",
    "\n",
    "irisData = load_iris()\n",
    "\n",
    "X=irisData.data\n",
    "y=irisData.target\n",
    "\n",
    "X_train, X_test, y_train, y_test = train_test_split(X, y, test_size=0.2, random_state = 42)\n",
    "\n",
    "neighbors = np.arange(1,9)\n",
    "train_accuracy=np.empty(len(neighbors))\n",
    "test_accuracy = np.empty(len(neighbors))\n",
    "\n",
    "for i,k in enumerate(neighbors):\n",
    "    knn=KNeighborsClassifier(n_neighbors=k)\n",
    "    knn.fit(X_train, y_train)\n",
    "\n",
    "    train_accuracy[i]=knn.score(X_train, y_train)\n",
    "    test_accuracy[i]=knn.score(X_test, y_test)\n",
    "    \n",
    "plt.plot(neighbors, test_accuracy, label='Testing dataset Accuracy')\n",
    "plt.plot(neighbors, train_accuracy, label='Testing dataset Accuracy')\n",
    "    \n",
    "plt.legend()\n",
    "plt.xlabel('n_neighbors')\n",
    "plt.ylabel('Accuracy')\n",
    "plt.show()\n",
    "    "
   ]
  },
  {
   "cell_type": "markdown",
   "id": "76134ef3",
   "metadata": {},
   "source": [
    "### Linear Regression using tensorflow"
   ]
  },
  {
   "cell_type": "code",
   "execution_count": 20,
   "id": "1a9f70d9",
   "metadata": {},
   "outputs": [
    {
     "name": "stdout",
     "output_type": "stream",
     "text": [
      "cost = 10.079404830932617\n"
     ]
    }
   ],
   "source": [
    "import tensorflow.compat.v1 as tf\n",
    "tf.disable_v2_behavior()\n",
    "import numpy as np\n",
    "\n",
    "test_data_size = 2000\n",
    "iterations = 10000\n",
    "learn_rate = 0.005\n",
    "\n",
    "def generate_test_values():\n",
    "    train_x=[]\n",
    "    train_y = []\n",
    "    for _ in range(test_data_size):\n",
    "        x1=np.random.rand()\n",
    "        x2=np.random.rand()\n",
    "        x3=np.random.rand()\n",
    "        y_f=2*x1+3*x2+7*x3+4\n",
    "        train_x.append([x1,x2,x3])\n",
    "        train_y.append(y_f)\n",
    "    return np.array(train_x),np.transpose([train_y])\n",
    "x = tf.placeholder(tf.float32,[None,3],name='x')\n",
    "w = tf.Variable(tf.zeros([3,1]),name='w')\n",
    "b = tf.Variable(tf.zeros([1]),name='b')\n",
    "y = tf.placeholder(tf.float32,[None,1])\n",
    "\n",
    "model = tf.add(tf.matmul(x,w),b)\n",
    "cost  = tf.reduce_mean(tf.square(y-model))\n",
    "train = tf.train.GradientDescentOptimizer(learn_rate).minimize(cost)\n",
    "\n",
    "train_dataset, train_values = generate_test_values()\n",
    "init = tf.global_variables_initializer()\n",
    "with tf.Session() as session:\n",
    "    session.run(init)\n",
    "    for _ in range(iterations):\n",
    "        session.run(train,feed_dict={x:train_dataset,y:train_values})\n",
    "    print(\"cost = {}\".format(session.run(cost,feed_dict = {x:train_dataset, y:train_value})))"
   ]
  }
 ],
 "metadata": {
  "kernelspec": {
   "display_name": "Python 3 (ipykernel)",
   "language": "python",
   "name": "python3"
  },
  "language_info": {
   "codemirror_mode": {
    "name": "ipython",
    "version": 3
   },
   "file_extension": ".py",
   "mimetype": "text/x-python",
   "name": "python",
   "nbconvert_exporter": "python",
   "pygments_lexer": "ipython3",
   "version": "3.9.6"
  }
 },
 "nbformat": 4,
 "nbformat_minor": 5
}
